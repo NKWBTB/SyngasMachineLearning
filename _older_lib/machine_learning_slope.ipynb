{
 "metadata": {
  "language_info": {
   "codemirror_mode": {
    "name": "ipython",
    "version": 3
   },
   "file_extension": ".py",
   "mimetype": "text/x-python",
   "name": "python",
   "nbconvert_exporter": "python",
   "pygments_lexer": "ipython3",
   "version": "3.8.6-final"
  },
  "orig_nbformat": 2,
  "kernelspec": {
   "name": "python3",
   "display_name": "Python 3.8.6 64-bit",
   "metadata": {
    "interpreter": {
     "hash": "1ee38ef4a5a9feb55287fd749643f13d043cb0a7addaab2a9c224cbe137c0062"
    }
   }
  }
 },
 "nbformat": 4,
 "nbformat_minor": 2,
 "cells": [
  {
   "cell_type": "code",
   "execution_count": 1,
   "metadata": {},
   "outputs": [
    {
     "output_type": "execute_result",
     "data": {
      "text/plain": [
       "'/Users/garrettroell/Documents/VS_code_projects/machine_learning_clostridium/lib'"
      ]
     },
     "metadata": {},
     "execution_count": 1
    }
   ],
   "source": [
    "import pandas as pd\n",
    "import os\n",
    "cur_dir = os.getcwd()\n",
    "cur_dir"
   ]
  },
  {
   "cell_type": "code",
   "execution_count": 2,
   "metadata": {},
   "outputs": [],
   "source": [
    "raw_data_6 = pd.read_csv(f'{cur_dir}/data/raw_data_6.csv')\n",
    "raw_data_6.set_index(['composition','trial','time'],drop=True,inplace=True)\n",
    "\n",
    "smooth_data_6 = pd.read_csv(f'{cur_dir}/data/smooth_data_6.csv')\n",
    "smooth_data_6.set_index(['composition','trial','time'],drop=True,inplace=True)\n",
    "\n",
    "raw_data_7 = pd.read_csv(f'{cur_dir}/data/raw_data_7.csv')\n",
    "raw_data_7.set_index(['composition','trial','time'],drop=True,inplace=True)\n",
    "\n",
    "smooth_data_7 = pd.read_csv(f'{cur_dir}/data/smooth_data_7.csv')\n",
    "smooth_data_7.set_index(['composition','trial','time'],drop=True,inplace=True)"
   ]
  },
  {
   "cell_type": "code",
   "execution_count": 3,
   "metadata": {},
   "outputs": [
    {
     "output_type": "display_data",
     "data": {
      "text/plain": "                        acetate  biomass  butanol  butyrate  ethanol  \\\ncomposition trial time                                                 \n1           1     0.58    21.61     0.41     0.04      0.06    10.94   \n                  0.65    44.31     0.39     0.05      0.08    15.89   \n                  1.02    46.19     0.46     0.21      0.64     8.14   \n                  1.67    46.16     0.49     1.18      3.64    10.81   \n                  3.70    34.39     0.64     8.44      9.76    20.34   \n\n                        flow rate     H2   CO    CO2  acetate_0  biomass_0  \\\ncomposition trial time                                                       \n1           1     0.58         20  0.125  0.5  0.375  16.905029   0.429546   \n                  0.65         20  0.125  0.5  0.375  16.905029   0.429546   \n                  1.02         20  0.125  0.5  0.375  16.905029   0.429546   \n                  1.67         20  0.125  0.5  0.375  16.905029   0.429546   \n                  3.70         20  0.125  0.5  0.375  16.905029   0.429546   \n\n                        butanol_0  butyrate_0  ethanol_0   acetate_Δ  \\\ncomposition trial time                                                 \n1           1     0.58   0.029818    0.075529   15.89524    0.000000   \n                  0.65   0.029818    0.075529   15.89524  324.285714   \n                  1.02   0.029818    0.075529   15.89524    5.081081   \n                  1.67   0.029818    0.075529   15.89524   -0.046154   \n                  3.70   0.029818    0.075529   15.89524   -5.798030   \n\n                        biomass_Δ  butanol_Δ  butyrate_Δ  ethanol_Δ  \ncomposition trial time                                               \n1           1     0.58   0.000000   0.000000    0.000000   0.000000  \n                  0.65  -0.285714   0.142857    0.285714  70.714286  \n                  1.02   0.189189   0.432432    1.513514 -20.945946  \n                  1.67   0.046154   1.492308    4.615385   4.107692  \n                  3.70   0.073892   3.576355    3.014778   4.694581  ",
      "text/html": "<div>\n<style scoped>\n    .dataframe tbody tr th:only-of-type {\n        vertical-align: middle;\n    }\n\n    .dataframe tbody tr th {\n        vertical-align: top;\n    }\n\n    .dataframe thead th {\n        text-align: right;\n    }\n</style>\n<table border=\"1\" class=\"dataframe\">\n  <thead>\n    <tr style=\"text-align: right;\">\n      <th></th>\n      <th></th>\n      <th></th>\n      <th>acetate</th>\n      <th>biomass</th>\n      <th>butanol</th>\n      <th>butyrate</th>\n      <th>ethanol</th>\n      <th>flow rate</th>\n      <th>H2</th>\n      <th>CO</th>\n      <th>CO2</th>\n      <th>acetate_0</th>\n      <th>biomass_0</th>\n      <th>butanol_0</th>\n      <th>butyrate_0</th>\n      <th>ethanol_0</th>\n      <th>acetate_Δ</th>\n      <th>biomass_Δ</th>\n      <th>butanol_Δ</th>\n      <th>butyrate_Δ</th>\n      <th>ethanol_Δ</th>\n    </tr>\n    <tr>\n      <th>composition</th>\n      <th>trial</th>\n      <th>time</th>\n      <th></th>\n      <th></th>\n      <th></th>\n      <th></th>\n      <th></th>\n      <th></th>\n      <th></th>\n      <th></th>\n      <th></th>\n      <th></th>\n      <th></th>\n      <th></th>\n      <th></th>\n      <th></th>\n      <th></th>\n      <th></th>\n      <th></th>\n      <th></th>\n      <th></th>\n    </tr>\n  </thead>\n  <tbody>\n    <tr>\n      <th rowspan=\"5\" valign=\"top\">1</th>\n      <th rowspan=\"5\" valign=\"top\">1</th>\n      <th>0.58</th>\n      <td>21.61</td>\n      <td>0.41</td>\n      <td>0.04</td>\n      <td>0.06</td>\n      <td>10.94</td>\n      <td>20</td>\n      <td>0.125</td>\n      <td>0.5</td>\n      <td>0.375</td>\n      <td>16.905029</td>\n      <td>0.429546</td>\n      <td>0.029818</td>\n      <td>0.075529</td>\n      <td>15.89524</td>\n      <td>0.000000</td>\n      <td>0.000000</td>\n      <td>0.000000</td>\n      <td>0.000000</td>\n      <td>0.000000</td>\n    </tr>\n    <tr>\n      <th>0.65</th>\n      <td>44.31</td>\n      <td>0.39</td>\n      <td>0.05</td>\n      <td>0.08</td>\n      <td>15.89</td>\n      <td>20</td>\n      <td>0.125</td>\n      <td>0.5</td>\n      <td>0.375</td>\n      <td>16.905029</td>\n      <td>0.429546</td>\n      <td>0.029818</td>\n      <td>0.075529</td>\n      <td>15.89524</td>\n      <td>324.285714</td>\n      <td>-0.285714</td>\n      <td>0.142857</td>\n      <td>0.285714</td>\n      <td>70.714286</td>\n    </tr>\n    <tr>\n      <th>1.02</th>\n      <td>46.19</td>\n      <td>0.46</td>\n      <td>0.21</td>\n      <td>0.64</td>\n      <td>8.14</td>\n      <td>20</td>\n      <td>0.125</td>\n      <td>0.5</td>\n      <td>0.375</td>\n      <td>16.905029</td>\n      <td>0.429546</td>\n      <td>0.029818</td>\n      <td>0.075529</td>\n      <td>15.89524</td>\n      <td>5.081081</td>\n      <td>0.189189</td>\n      <td>0.432432</td>\n      <td>1.513514</td>\n      <td>-20.945946</td>\n    </tr>\n    <tr>\n      <th>1.67</th>\n      <td>46.16</td>\n      <td>0.49</td>\n      <td>1.18</td>\n      <td>3.64</td>\n      <td>10.81</td>\n      <td>20</td>\n      <td>0.125</td>\n      <td>0.5</td>\n      <td>0.375</td>\n      <td>16.905029</td>\n      <td>0.429546</td>\n      <td>0.029818</td>\n      <td>0.075529</td>\n      <td>15.89524</td>\n      <td>-0.046154</td>\n      <td>0.046154</td>\n      <td>1.492308</td>\n      <td>4.615385</td>\n      <td>4.107692</td>\n    </tr>\n    <tr>\n      <th>3.70</th>\n      <td>34.39</td>\n      <td>0.64</td>\n      <td>8.44</td>\n      <td>9.76</td>\n      <td>20.34</td>\n      <td>20</td>\n      <td>0.125</td>\n      <td>0.5</td>\n      <td>0.375</td>\n      <td>16.905029</td>\n      <td>0.429546</td>\n      <td>0.029818</td>\n      <td>0.075529</td>\n      <td>15.89524</td>\n      <td>-5.798030</td>\n      <td>0.073892</td>\n      <td>3.576355</td>\n      <td>3.014778</td>\n      <td>4.694581</td>\n    </tr>\n  </tbody>\n</table>\n</div>"
     },
     "metadata": {}
    },
    {
     "output_type": "display_data",
     "data": {
      "text/plain": "                         CO    CO2     H2    acetate   biomass   butanol  \\\ncomposition trial time                                                     \n1           1     0.0   0.5  0.375  0.125  16.905029  0.429546  0.029818   \n                  0.1   0.5  0.375  0.125  18.001195  0.421076  0.028260   \n                  0.2   0.5  0.375  0.125  19.831073  0.410803  0.028316   \n                  0.3   0.5  0.375  0.125  22.196249  0.403602  0.031357   \n                  0.4   0.5  0.375  0.125  25.293925  0.403709  0.028700   \n\n                        butyrate    ethanol  flow rate  acetate_0  biomass_0  \\\ncomposition trial time                                                         \n1           1     0.0   0.075529  15.895240       20.0  16.905029   0.429546   \n                  0.1   0.061033  15.607023       20.0  16.905029   0.429546   \n                  0.2   0.051013  15.144135       20.0  16.905029   0.429546   \n                  0.3   0.050367  14.522308       20.0  16.905029   0.429546   \n                  0.4   0.035514  13.956015       20.0  16.905029   0.429546   \n\n                        butanol_0  butyrate_0  ethanol_0  acetate_Δ  \\\ncomposition trial time                                                \n1           1     0.0    0.029818    0.075529   15.89524   0.000000   \n                  0.1    0.029818    0.075529   15.89524  10.961665   \n                  0.2    0.029818    0.075529   15.89524  18.298778   \n                  0.3    0.029818    0.075529   15.89524  23.651756   \n                  0.4    0.029818    0.075529   15.89524  30.976760   \n\n                        biomass_Δ  butanol_Δ  butyrate_Δ  ethanol_Δ  \ncomposition trial time                                               \n1           1     0.0    0.000000   0.000000    0.000000   0.000000  \n                  0.1   -0.084697  -0.015584   -0.144950  -2.882172  \n                  0.2   -0.102733   0.000561   -0.100208  -4.628878  \n                  0.3   -0.072009   0.030416   -0.006462  -6.218271  \n                  0.4    0.001068  -0.026579   -0.148525  -5.662923  ",
      "text/html": "<div>\n<style scoped>\n    .dataframe tbody tr th:only-of-type {\n        vertical-align: middle;\n    }\n\n    .dataframe tbody tr th {\n        vertical-align: top;\n    }\n\n    .dataframe thead th {\n        text-align: right;\n    }\n</style>\n<table border=\"1\" class=\"dataframe\">\n  <thead>\n    <tr style=\"text-align: right;\">\n      <th></th>\n      <th></th>\n      <th></th>\n      <th>CO</th>\n      <th>CO2</th>\n      <th>H2</th>\n      <th>acetate</th>\n      <th>biomass</th>\n      <th>butanol</th>\n      <th>butyrate</th>\n      <th>ethanol</th>\n      <th>flow rate</th>\n      <th>acetate_0</th>\n      <th>biomass_0</th>\n      <th>butanol_0</th>\n      <th>butyrate_0</th>\n      <th>ethanol_0</th>\n      <th>acetate_Δ</th>\n      <th>biomass_Δ</th>\n      <th>butanol_Δ</th>\n      <th>butyrate_Δ</th>\n      <th>ethanol_Δ</th>\n    </tr>\n    <tr>\n      <th>composition</th>\n      <th>trial</th>\n      <th>time</th>\n      <th></th>\n      <th></th>\n      <th></th>\n      <th></th>\n      <th></th>\n      <th></th>\n      <th></th>\n      <th></th>\n      <th></th>\n      <th></th>\n      <th></th>\n      <th></th>\n      <th></th>\n      <th></th>\n      <th></th>\n      <th></th>\n      <th></th>\n      <th></th>\n      <th></th>\n    </tr>\n  </thead>\n  <tbody>\n    <tr>\n      <th rowspan=\"5\" valign=\"top\">1</th>\n      <th rowspan=\"5\" valign=\"top\">1</th>\n      <th>0.0</th>\n      <td>0.5</td>\n      <td>0.375</td>\n      <td>0.125</td>\n      <td>16.905029</td>\n      <td>0.429546</td>\n      <td>0.029818</td>\n      <td>0.075529</td>\n      <td>15.895240</td>\n      <td>20.0</td>\n      <td>16.905029</td>\n      <td>0.429546</td>\n      <td>0.029818</td>\n      <td>0.075529</td>\n      <td>15.89524</td>\n      <td>0.000000</td>\n      <td>0.000000</td>\n      <td>0.000000</td>\n      <td>0.000000</td>\n      <td>0.000000</td>\n    </tr>\n    <tr>\n      <th>0.1</th>\n      <td>0.5</td>\n      <td>0.375</td>\n      <td>0.125</td>\n      <td>18.001195</td>\n      <td>0.421076</td>\n      <td>0.028260</td>\n      <td>0.061033</td>\n      <td>15.607023</td>\n      <td>20.0</td>\n      <td>16.905029</td>\n      <td>0.429546</td>\n      <td>0.029818</td>\n      <td>0.075529</td>\n      <td>15.89524</td>\n      <td>10.961665</td>\n      <td>-0.084697</td>\n      <td>-0.015584</td>\n      <td>-0.144950</td>\n      <td>-2.882172</td>\n    </tr>\n    <tr>\n      <th>0.2</th>\n      <td>0.5</td>\n      <td>0.375</td>\n      <td>0.125</td>\n      <td>19.831073</td>\n      <td>0.410803</td>\n      <td>0.028316</td>\n      <td>0.051013</td>\n      <td>15.144135</td>\n      <td>20.0</td>\n      <td>16.905029</td>\n      <td>0.429546</td>\n      <td>0.029818</td>\n      <td>0.075529</td>\n      <td>15.89524</td>\n      <td>18.298778</td>\n      <td>-0.102733</td>\n      <td>0.000561</td>\n      <td>-0.100208</td>\n      <td>-4.628878</td>\n    </tr>\n    <tr>\n      <th>0.3</th>\n      <td>0.5</td>\n      <td>0.375</td>\n      <td>0.125</td>\n      <td>22.196249</td>\n      <td>0.403602</td>\n      <td>0.031357</td>\n      <td>0.050367</td>\n      <td>14.522308</td>\n      <td>20.0</td>\n      <td>16.905029</td>\n      <td>0.429546</td>\n      <td>0.029818</td>\n      <td>0.075529</td>\n      <td>15.89524</td>\n      <td>23.651756</td>\n      <td>-0.072009</td>\n      <td>0.030416</td>\n      <td>-0.006462</td>\n      <td>-6.218271</td>\n    </tr>\n    <tr>\n      <th>0.4</th>\n      <td>0.5</td>\n      <td>0.375</td>\n      <td>0.125</td>\n      <td>25.293925</td>\n      <td>0.403709</td>\n      <td>0.028700</td>\n      <td>0.035514</td>\n      <td>13.956015</td>\n      <td>20.0</td>\n      <td>16.905029</td>\n      <td>0.429546</td>\n      <td>0.029818</td>\n      <td>0.075529</td>\n      <td>15.89524</td>\n      <td>30.976760</td>\n      <td>0.001068</td>\n      <td>-0.026579</td>\n      <td>-0.148525</td>\n      <td>-5.662923</td>\n    </tr>\n  </tbody>\n</table>\n</div>"
     },
     "metadata": {}
    }
   ],
   "source": [
    "display(raw_data_6.head())\n",
    "display(smooth_data_7.head())"
   ]
  },
  {
   "cell_type": "code",
   "execution_count": 4,
   "metadata": {},
   "outputs": [
    {
     "output_type": "stream",
     "name": "stdout",
     "text": [
      "raw\n",
      "gradient boosting\n",
      "raw, gradient boosting, comp excluded from training: none\n",
      "raw, gradient boosting, comp excluded from training: 1\n",
      "raw, gradient boosting, comp excluded from training: 2\n",
      "raw, gradient boosting, comp excluded from training: 3\n",
      "raw, gradient boosting, comp excluded from training: 4\n",
      "raw, gradient boosting, comp excluded from training: 5\n",
      "raw, gradient boosting, comp excluded from training: 6\n",
      "random forest\n",
      "raw, random forest, comp excluded from training: none\n",
      "raw, random forest, comp excluded from training: 1\n",
      "raw, random forest, comp excluded from training: 2\n",
      "raw, random forest, comp excluded from training: 3\n",
      "raw, random forest, comp excluded from training: 4\n",
      "raw, random forest, comp excluded from training: 5\n",
      "raw, random forest, comp excluded from training: 6\n",
      "support vector\n",
      "raw, support vector, comp excluded from training: none\n",
      "raw, support vector, comp excluded from training: 1\n",
      "raw, support vector, comp excluded from training: 2\n",
      "raw, support vector, comp excluded from training: 3\n",
      "raw, support vector, comp excluded from training: 4\n",
      "raw, support vector, comp excluded from training: 5\n",
      "raw, support vector, comp excluded from training: 6\n",
      "neural net\n",
      "raw, neural net, comp excluded from training: none\n",
      "raw, neural net, comp excluded from training: 1\n",
      "raw, neural net, comp excluded from training: 2\n",
      "raw, neural net, comp excluded from training: 3\n",
      "raw, neural net, comp excluded from training: 4\n",
      "raw, neural net, comp excluded from training: 5\n",
      "raw, neural net, comp excluded from training: 6\n",
      "lasso\n",
      "raw, lasso, comp excluded from training: none\n",
      "raw, lasso, comp excluded from training: 1\n",
      "raw, lasso, comp excluded from training: 2\n",
      "raw, lasso, comp excluded from training: 3\n",
      "raw, lasso, comp excluded from training: 4\n",
      "raw, lasso, comp excluded from training: 5\n",
      "raw, lasso, comp excluded from training: 6\n",
      "smooth\n",
      "gradient boosting\n",
      "smooth, gradient boosting, comp excluded from training: none\n",
      "smooth, gradient boosting, comp excluded from training: 1\n",
      "smooth, gradient boosting, comp excluded from training: 2\n",
      "smooth, gradient boosting, comp excluded from training: 3\n",
      "smooth, gradient boosting, comp excluded from training: 4\n",
      "smooth, gradient boosting, comp excluded from training: 5\n",
      "smooth, gradient boosting, comp excluded from training: 6\n",
      "random forest\n",
      "smooth, random forest, comp excluded from training: none\n",
      "smooth, random forest, comp excluded from training: 1\n",
      "smooth, random forest, comp excluded from training: 2\n",
      "smooth, random forest, comp excluded from training: 3\n",
      "smooth, random forest, comp excluded from training: 4\n",
      "smooth, random forest, comp excluded from training: 5\n",
      "smooth, random forest, comp excluded from training: 6\n",
      "support vector\n",
      "smooth, support vector, comp excluded from training: none\n",
      "smooth, support vector, comp excluded from training: 1\n",
      "smooth, support vector, comp excluded from training: 2\n",
      "smooth, support vector, comp excluded from training: 3\n",
      "smooth, support vector, comp excluded from training: 4\n",
      "smooth, support vector, comp excluded from training: 5\n",
      "smooth, support vector, comp excluded from training: 6\n",
      "neural net\n",
      "smooth, neural net, comp excluded from training: none\n",
      "smooth, neural net, comp excluded from training: 1\n",
      "smooth, neural net, comp excluded from training: 2\n",
      "smooth, neural net, comp excluded from training: 3\n",
      "smooth, neural net, comp excluded from training: 4\n",
      "smooth, neural net, comp excluded from training: 5\n",
      "smooth, neural net, comp excluded from training: 6\n",
      "lasso\n",
      "smooth, lasso, comp excluded from training: none\n",
      "smooth, lasso, comp excluded from training: 1\n",
      "smooth, lasso, comp excluded from training: 2\n",
      "smooth, lasso, comp excluded from training: 3\n",
      "smooth, lasso, comp excluded from training: 4\n",
      "smooth, lasso, comp excluded from training: 5\n",
      "smooth, lasso, comp excluded from training: 6\n",
      "raw\n",
      "gradient boosting\n",
      "raw, gradient boosting, comp excluded from training: none\n",
      "raw, gradient boosting, comp excluded from training: 1\n",
      "raw, gradient boosting, comp excluded from training: 2\n",
      "raw, gradient boosting, comp excluded from training: 3\n",
      "raw, gradient boosting, comp excluded from training: 4\n",
      "raw, gradient boosting, comp excluded from training: 5\n",
      "raw, gradient boosting, comp excluded from training: 6\n",
      "raw, gradient boosting, comp excluded from training: 7\n",
      "random forest\n",
      "raw, random forest, comp excluded from training: none\n",
      "raw, random forest, comp excluded from training: 1\n",
      "raw, random forest, comp excluded from training: 2\n",
      "raw, random forest, comp excluded from training: 3\n",
      "raw, random forest, comp excluded from training: 4\n",
      "raw, random forest, comp excluded from training: 5\n",
      "raw, random forest, comp excluded from training: 6\n",
      "raw, random forest, comp excluded from training: 7\n",
      "support vector\n",
      "raw, support vector, comp excluded from training: none\n",
      "raw, support vector, comp excluded from training: 1\n",
      "raw, support vector, comp excluded from training: 2\n",
      "raw, support vector, comp excluded from training: 3\n",
      "raw, support vector, comp excluded from training: 4\n",
      "raw, support vector, comp excluded from training: 5\n",
      "raw, support vector, comp excluded from training: 6\n",
      "raw, support vector, comp excluded from training: 7\n",
      "neural net\n",
      "raw, neural net, comp excluded from training: none\n",
      "raw, neural net, comp excluded from training: 1\n",
      "raw, neural net, comp excluded from training: 2\n",
      "raw, neural net, comp excluded from training: 3\n",
      "raw, neural net, comp excluded from training: 4\n",
      "raw, neural net, comp excluded from training: 5\n",
      "raw, neural net, comp excluded from training: 6\n",
      "raw, neural net, comp excluded from training: 7\n",
      "lasso\n",
      "raw, lasso, comp excluded from training: none\n",
      "raw, lasso, comp excluded from training: 1\n",
      "raw, lasso, comp excluded from training: 2\n",
      "raw, lasso, comp excluded from training: 3\n",
      "raw, lasso, comp excluded from training: 4\n",
      "raw, lasso, comp excluded from training: 5\n",
      "raw, lasso, comp excluded from training: 6\n",
      "raw, lasso, comp excluded from training: 7\n",
      "smooth\n",
      "gradient boosting\n",
      "smooth, gradient boosting, comp excluded from training: none\n",
      "smooth, gradient boosting, comp excluded from training: 1\n",
      "smooth, gradient boosting, comp excluded from training: 2\n",
      "smooth, gradient boosting, comp excluded from training: 3\n",
      "smooth, gradient boosting, comp excluded from training: 4\n",
      "smooth, gradient boosting, comp excluded from training: 5\n",
      "smooth, gradient boosting, comp excluded from training: 6\n",
      "smooth, gradient boosting, comp excluded from training: 7\n",
      "random forest\n",
      "smooth, random forest, comp excluded from training: none\n",
      "smooth, random forest, comp excluded from training: 1\n",
      "smooth, random forest, comp excluded from training: 2\n",
      "smooth, random forest, comp excluded from training: 3\n",
      "smooth, random forest, comp excluded from training: 4\n",
      "smooth, random forest, comp excluded from training: 5\n",
      "smooth, random forest, comp excluded from training: 6\n",
      "smooth, random forest, comp excluded from training: 7\n",
      "support vector\n",
      "smooth, support vector, comp excluded from training: none\n",
      "smooth, support vector, comp excluded from training: 1\n",
      "smooth, support vector, comp excluded from training: 2\n",
      "smooth, support vector, comp excluded from training: 3\n",
      "smooth, support vector, comp excluded from training: 4\n",
      "smooth, support vector, comp excluded from training: 5\n",
      "smooth, support vector, comp excluded from training: 6\n",
      "smooth, support vector, comp excluded from training: 7\n",
      "neural net\n",
      "smooth, neural net, comp excluded from training: none\n",
      "smooth, neural net, comp excluded from training: 1\n",
      "smooth, neural net, comp excluded from training: 2\n",
      "smooth, neural net, comp excluded from training: 3\n",
      "smooth, neural net, comp excluded from training: 4\n",
      "smooth, neural net, comp excluded from training: 5\n",
      "smooth, neural net, comp excluded from training: 6\n",
      "smooth, neural net, comp excluded from training: 7\n",
      "lasso\n",
      "smooth, lasso, comp excluded from training: none\n",
      "smooth, lasso, comp excluded from training: 1\n",
      "smooth, lasso, comp excluded from training: 2\n",
      "smooth, lasso, comp excluded from training: 3\n",
      "smooth, lasso, comp excluded from training: 4\n",
      "smooth, lasso, comp excluded from training: 5\n",
      "smooth, lasso, comp excluded from training: 6\n",
      "smooth, lasso, comp excluded from training: 7\n"
     ]
    }
   ],
   "source": [
    "from machine_learning.get_trained_models import get_trained_models_slope_6, get_trained_models_slope_7\n",
    "\n",
    "trained_models_6 = get_trained_models_slope_6(raw_data_6, smooth_data_6)\n",
    "trained_models_7 = get_trained_models_slope_7(raw_data_7, smooth_data_7)"
   ]
  },
  {
   "cell_type": "code",
   "execution_count": 123,
   "metadata": {},
   "outputs": [],
   "source": [
    "model = trained_models_6['gradient boosting, raw, test comp = none']"
   ]
  },
  {
   "cell_type": "code",
   "execution_count": 160,
   "metadata": {},
   "outputs": [],
   "source": [
    "import numpy as np\n",
    "\n",
    "def get_ml_model_derivs(t, y, gas_comp, ml_model):\n",
    "\n",
    "    dy = []\n",
    "    # makes sure all values are non-negative\n",
    "    for counter,conc in enumerate(y,0):\n",
    "        if conc < 0:\n",
    "            y[counter] = 0\n",
    "    \n",
    "    # the asterisks unpacks the contents of iterables\n",
    "    ml_input_list = [[*[t], *y, *gas_comp]]\n",
    "    ml_input_array = np.array(ml_input_list)\n",
    "    # print(ml_model.predict(ml_input_array))\n",
    "\n",
    "    for slope in ml_model.predict(ml_input_array)[0]:\n",
    "        if slope > 100:\n",
    "            slope = 100\n",
    "        if slope < -100:\n",
    "            slope = -100\n",
    "        dy.append(slope)\n",
    "        \n",
    "    return dy "
   ]
  },
  {
   "cell_type": "code",
   "execution_count": 161,
   "metadata": {},
   "outputs": [
    {
     "output_type": "stream",
     "name": "stdout",
     "text": [
      "[[1.26993472e+01 2.25988335e-03 2.08653632e-01 6.34617367e-01\n  7.38477454e+00]]\n"
     ]
    },
    {
     "output_type": "execute_result",
     "data": {
      "text/plain": [
       "[12.699347183416105,\n",
       " 0.0022598833467964846,\n",
       " 0.20865363163133205,\n",
       " 0.6346173669833871,\n",
       " 7.38477454308228]"
      ]
     },
     "metadata": {},
     "execution_count": 161
    }
   ],
   "source": [
    "# t_test = 0\n",
    "# y_test = [16.90502895927611, 0.4295457013574683, 0.029818099547511474, 0.07552850678733072, 15.895239819004606]\n",
    "# gas_comp_test = [0.5000000000000027, 0.3750000000000019, 0.12500000000000067, 20.00000000000011]\n",
    "# ml_model_test = model\n",
    "\n",
    "\n",
    "# get_ml_model_derivs(t_test, y_test, gas_comp_test, ml_model_test)"
   ]
  },
  {
   "cell_type": "code",
   "execution_count": 182,
   "metadata": {},
   "outputs": [],
   "source": [
    "from scipy.integrate import solve_ivp\n",
    "\n",
    "def solve_diff_eqs_ml(initial_values, t_range, times_list, gas_comp, ml_model):\n",
    "   \n",
    "    # t_range = [times[0],times[-1]]\n",
    "    sol = solve_ivp(lambda t, y: get_ml_model_derivs(t, y, gas_comp, ml_model), t_range, initial_values, t_eval=times_list, rtol = 0.01, atol = 0.01)\n",
    "\n",
    "    sim_data = pd.DataFrame(index = t_range, columns = ['acetate','biomass', 'butanol', 'butyrate', 'ethanol'])\n",
    "\n",
    "    sim_data['acetate']  = sol.y[0]\n",
    "    sim_data['biomass']  = sol.y[1]\n",
    "    sim_data['butanol']  = sol.y[2]\n",
    "    sim_data['butyrate'] = sol.y[3]\n",
    "    sim_data['ethanol']  = sol.y[4]\n",
    "    sim_data.clip(lower=0, inplace=True)\n",
    "\n",
    "    return sim_data "
   ]
  },
  {
   "cell_type": "code",
   "execution_count": 185,
   "metadata": {},
   "outputs": [
    {
     "output_type": "stream",
     "name": "stdout",
     "text": [
      "[[1.26993472e+01 2.25988335e-03 2.08653632e-01 6.34617367e-01\n  7.38477454e+00]]\n[[1.26993472e+01 2.25988335e-03 2.08653632e-01 6.34617367e-01\n  7.38477454e+00]]\n[[1.26993472e+01 2.25988335e-03 2.08653632e-01 6.41660845e-01\n  7.38477454e+00]]\n[[1.26993472e+01 2.25988335e-03 2.08653632e-01 6.41660845e-01\n  7.38477454e+00]]\n[[12.69934718  0.02076015  0.27619806  0.64166085  7.38477454]]\n[[11.16920365  0.02076015  0.27619806  0.64166085  7.38477454]]\n[[11.16920365  0.02076015  0.27619806  0.64166085  7.38477454]]\n[[11.16920365  0.02076015  0.27619806  0.64166085  7.38477454]]\n[[11.16920365  0.02076015  0.28073034  0.64166085  7.38477454]]\n[[11.16920365  0.02076015  0.28073034  0.64166085  7.38477454]]\n[[11.16920365  0.02076015  0.29700704  0.64166085  7.38477454]]\n[[11.16920365  0.02076015  0.29700704  0.64166085  7.38477454]]\n[[11.16920365  0.02076015  0.40704838  0.60890005  7.38477454]]\n[[11.16920365  0.02076015  0.40704838  0.60890005  7.38477454]]\n[[11.16920365  0.03436858  0.46456777  0.60890005  7.38477454]]\n[[11.16920365  0.03436858  0.46456777  0.60844363  7.38477454]]\n[[13.93286986  0.03436858  0.56816372  0.61444363  7.38477454]]\n[[13.93286986  0.03436858  0.52204781  0.61444363  7.38477454]]\n[[13.93286986  0.03436858  0.67129212  0.66438615  7.38477454]]\n[[13.93286986  0.03436858  1.15950345  0.66438615  7.38477454]]\n[[8.34379707 0.03436858 1.3875758  0.6353927  7.38477454]]\n[[4.07783689 0.03436858 1.55384582 0.6353927  7.38477454]]\n[[ 4.07783689  0.03436858  1.66479808  1.43834394 12.89550261]]\n[[ 4.07783689  0.03436858  2.40104951  1.34739842 12.89550261]]\n[[ 4.07783689  0.03436858  2.46328304  1.34739842 12.89550261]]\n[[ 4.07783689  0.03436858  1.68957083  1.43834394 12.89550261]]\n[[ 4.07783689  0.01720098  4.12239508  1.62175825 14.36755141]]\n[[ 4.07783689  0.01720098  3.45099696  1.6079121  14.36755141]]\n[[ 8.34379707  0.01720098  1.77045925  2.51632238 14.36755141]]\n[[ 8.34379707  0.01720098  1.21892569  2.50386085 14.36755141]]\n[[ 8.34379707  0.01720098  1.129833    2.50386085 14.36755141]]\n[[ 4.07783689  0.04467414  4.13752799  1.95178381 14.36755141]]\n[[ 4.07783689 -0.08667213  4.81538126  1.91994041 14.36755141]]\n[[ 4.07783689 -0.08667213  5.23920999  2.01335557 14.36755141]]\n[[ 4.07783689  0.03809332  7.34198774  2.09286019 13.13030929]]\n[[ 4.07783689  0.03809332  8.4413398   3.16710289 13.13030929]]\n[[ 4.07783689  0.03809332  7.31410861  0.91211825 13.13030929]]\n[[ 4.07783689  0.01716004  9.49316019  0.91211825 13.13030929]]\n[[ 4.07783689  0.01716004  7.55326751  0.91211825 13.13030929]]\n[[ 4.07783689  0.01363957  7.86595612  0.91211825 13.13030929]]\n[[ 4.07783689  0.01363957  9.1722684  -0.56748515 13.13030929]]\n[[ 4.07783689e+00  1.36395740e-02  1.41216929e+01 -5.67485155e-01\n   1.31303093e+01]]\n[[ 4.07783689e+00  1.36395740e-02  1.39549021e+01 -5.67485155e-01\n   1.31303093e+01]]\n[[ 4.07783689  0.01363957  9.02309973 -0.56748515 13.13030929]]\n"
     ]
    },
    {
     "output_type": "error",
     "ename": "ValueError",
     "evalue": "Length of values (57) does not match length of index (2)",
     "traceback": [
      "\u001b[0;31m---------------------------------------------------------------------------\u001b[0m",
      "\u001b[0;31mValueError\u001b[0m                                Traceback (most recent call last)",
      "\u001b[0;32m<ipython-input-185-58d23fa04b44>\u001b[0m in \u001b[0;36m<module>\u001b[0;34m\u001b[0m\n\u001b[1;32m      5\u001b[0m \u001b[0mtime_list_test\u001b[0m \u001b[0;34m=\u001b[0m \u001b[0;34m[\u001b[0m\u001b[0;36m0.0\u001b[0m\u001b[0;34m,\u001b[0m \u001b[0;36m0.1\u001b[0m\u001b[0;34m,\u001b[0m \u001b[0;36m0.2\u001b[0m\u001b[0;34m,\u001b[0m \u001b[0;36m0.3\u001b[0m\u001b[0;34m,\u001b[0m \u001b[0;36m0.4\u001b[0m\u001b[0;34m,\u001b[0m \u001b[0;36m0.5\u001b[0m\u001b[0;34m,\u001b[0m \u001b[0;36m0.6\u001b[0m\u001b[0;34m,\u001b[0m \u001b[0;36m0.7\u001b[0m\u001b[0;34m,\u001b[0m \u001b[0;36m0.8\u001b[0m\u001b[0;34m,\u001b[0m \u001b[0;36m0.9\u001b[0m\u001b[0;34m,\u001b[0m \u001b[0;36m1.0\u001b[0m\u001b[0;34m,\u001b[0m \u001b[0;36m1.1\u001b[0m\u001b[0;34m,\u001b[0m \u001b[0;36m1.2\u001b[0m\u001b[0;34m,\u001b[0m \u001b[0;36m1.3\u001b[0m\u001b[0;34m,\u001b[0m \u001b[0;36m1.4\u001b[0m\u001b[0;34m,\u001b[0m \u001b[0;36m1.5\u001b[0m\u001b[0;34m,\u001b[0m \u001b[0;36m1.6\u001b[0m\u001b[0;34m,\u001b[0m \u001b[0;36m1.7\u001b[0m\u001b[0;34m,\u001b[0m \u001b[0;36m1.8\u001b[0m\u001b[0;34m,\u001b[0m \u001b[0;36m1.9\u001b[0m\u001b[0;34m,\u001b[0m \u001b[0;36m2.0\u001b[0m\u001b[0;34m,\u001b[0m \u001b[0;36m2.1\u001b[0m\u001b[0;34m,\u001b[0m \u001b[0;36m2.2\u001b[0m\u001b[0;34m,\u001b[0m \u001b[0;36m2.3\u001b[0m\u001b[0;34m,\u001b[0m \u001b[0;36m2.4\u001b[0m\u001b[0;34m,\u001b[0m \u001b[0;36m2.5\u001b[0m\u001b[0;34m,\u001b[0m \u001b[0;36m2.6\u001b[0m\u001b[0;34m,\u001b[0m \u001b[0;36m2.7\u001b[0m\u001b[0;34m,\u001b[0m \u001b[0;36m2.8\u001b[0m\u001b[0;34m,\u001b[0m \u001b[0;36m2.9\u001b[0m\u001b[0;34m,\u001b[0m \u001b[0;36m3.0\u001b[0m\u001b[0;34m,\u001b[0m \u001b[0;36m3.1\u001b[0m\u001b[0;34m,\u001b[0m \u001b[0;36m3.2\u001b[0m\u001b[0;34m,\u001b[0m \u001b[0;36m3.3\u001b[0m\u001b[0;34m,\u001b[0m \u001b[0;36m3.4\u001b[0m\u001b[0;34m,\u001b[0m \u001b[0;36m3.5\u001b[0m\u001b[0;34m,\u001b[0m \u001b[0;36m3.6\u001b[0m\u001b[0;34m,\u001b[0m \u001b[0;36m3.7\u001b[0m\u001b[0;34m,\u001b[0m \u001b[0;36m3.8\u001b[0m\u001b[0;34m,\u001b[0m \u001b[0;36m3.9\u001b[0m\u001b[0;34m,\u001b[0m \u001b[0;36m4.0\u001b[0m\u001b[0;34m,\u001b[0m \u001b[0;36m4.1\u001b[0m\u001b[0;34m,\u001b[0m \u001b[0;36m4.2\u001b[0m\u001b[0;34m,\u001b[0m \u001b[0;36m4.3\u001b[0m\u001b[0;34m,\u001b[0m \u001b[0;36m4.4\u001b[0m\u001b[0;34m,\u001b[0m \u001b[0;36m4.5\u001b[0m\u001b[0;34m,\u001b[0m \u001b[0;36m4.6\u001b[0m\u001b[0;34m,\u001b[0m \u001b[0;36m4.7\u001b[0m\u001b[0;34m,\u001b[0m \u001b[0;36m4.8\u001b[0m\u001b[0;34m,\u001b[0m \u001b[0;36m4.9\u001b[0m\u001b[0;34m,\u001b[0m \u001b[0;36m5.0\u001b[0m\u001b[0;34m,\u001b[0m \u001b[0;36m5.1\u001b[0m\u001b[0;34m,\u001b[0m \u001b[0;36m5.2\u001b[0m\u001b[0;34m,\u001b[0m \u001b[0;36m5.3\u001b[0m\u001b[0;34m,\u001b[0m \u001b[0;36m5.4\u001b[0m\u001b[0;34m,\u001b[0m \u001b[0;36m5.5\u001b[0m\u001b[0;34m,\u001b[0m \u001b[0;36m5.6\u001b[0m\u001b[0;34m]\u001b[0m\u001b[0;34m\u001b[0m\u001b[0;34m\u001b[0m\u001b[0m\n\u001b[1;32m      6\u001b[0m \u001b[0;34m\u001b[0m\u001b[0m\n\u001b[0;32m----> 7\u001b[0;31m \u001b[0msolve_diff_eqs_ml\u001b[0m\u001b[0;34m(\u001b[0m\u001b[0minitial_values_test\u001b[0m\u001b[0;34m,\u001b[0m \u001b[0mt_range_test\u001b[0m\u001b[0;34m,\u001b[0m \u001b[0mtime_list_test\u001b[0m\u001b[0;34m,\u001b[0m \u001b[0mgas_comp_test\u001b[0m\u001b[0;34m,\u001b[0m \u001b[0mml_model_test\u001b[0m\u001b[0;34m)\u001b[0m\u001b[0;34m\u001b[0m\u001b[0;34m\u001b[0m\u001b[0m\n\u001b[0m",
      "\u001b[0;32m<ipython-input-182-02f347b9f83c>\u001b[0m in \u001b[0;36msolve_diff_eqs_ml\u001b[0;34m(initial_values, t_range, times_list, gas_comp, ml_model)\u001b[0m\n\u001b[1;32m      8\u001b[0m     \u001b[0msim_data\u001b[0m \u001b[0;34m=\u001b[0m \u001b[0mpd\u001b[0m\u001b[0;34m.\u001b[0m\u001b[0mDataFrame\u001b[0m\u001b[0;34m(\u001b[0m\u001b[0mindex\u001b[0m \u001b[0;34m=\u001b[0m \u001b[0mt_range\u001b[0m\u001b[0;34m,\u001b[0m \u001b[0mcolumns\u001b[0m \u001b[0;34m=\u001b[0m \u001b[0;34m[\u001b[0m\u001b[0;34m'acetate'\u001b[0m\u001b[0;34m,\u001b[0m\u001b[0;34m'biomass'\u001b[0m\u001b[0;34m,\u001b[0m \u001b[0;34m'butanol'\u001b[0m\u001b[0;34m,\u001b[0m \u001b[0;34m'butyrate'\u001b[0m\u001b[0;34m,\u001b[0m \u001b[0;34m'ethanol'\u001b[0m\u001b[0;34m]\u001b[0m\u001b[0;34m)\u001b[0m\u001b[0;34m\u001b[0m\u001b[0;34m\u001b[0m\u001b[0m\n\u001b[1;32m      9\u001b[0m \u001b[0;34m\u001b[0m\u001b[0m\n\u001b[0;32m---> 10\u001b[0;31m     \u001b[0msim_data\u001b[0m\u001b[0;34m[\u001b[0m\u001b[0;34m'acetate'\u001b[0m\u001b[0;34m]\u001b[0m  \u001b[0;34m=\u001b[0m \u001b[0msol\u001b[0m\u001b[0;34m.\u001b[0m\u001b[0my\u001b[0m\u001b[0;34m[\u001b[0m\u001b[0;36m0\u001b[0m\u001b[0;34m]\u001b[0m\u001b[0;34m\u001b[0m\u001b[0;34m\u001b[0m\u001b[0m\n\u001b[0m\u001b[1;32m     11\u001b[0m     \u001b[0msim_data\u001b[0m\u001b[0;34m[\u001b[0m\u001b[0;34m'biomass'\u001b[0m\u001b[0;34m]\u001b[0m  \u001b[0;34m=\u001b[0m \u001b[0msol\u001b[0m\u001b[0;34m.\u001b[0m\u001b[0my\u001b[0m\u001b[0;34m[\u001b[0m\u001b[0;36m1\u001b[0m\u001b[0;34m]\u001b[0m\u001b[0;34m\u001b[0m\u001b[0;34m\u001b[0m\u001b[0m\n\u001b[1;32m     12\u001b[0m     \u001b[0msim_data\u001b[0m\u001b[0;34m[\u001b[0m\u001b[0;34m'butanol'\u001b[0m\u001b[0;34m]\u001b[0m  \u001b[0;34m=\u001b[0m \u001b[0msol\u001b[0m\u001b[0;34m.\u001b[0m\u001b[0my\u001b[0m\u001b[0;34m[\u001b[0m\u001b[0;36m2\u001b[0m\u001b[0;34m]\u001b[0m\u001b[0;34m\u001b[0m\u001b[0;34m\u001b[0m\u001b[0m\n",
      "\u001b[0;32m/usr/local/lib/python3.8/site-packages/pandas/core/frame.py\u001b[0m in \u001b[0;36m__setitem__\u001b[0;34m(self, key, value)\u001b[0m\n\u001b[1;32m   3038\u001b[0m         \u001b[0;32melse\u001b[0m\u001b[0;34m:\u001b[0m\u001b[0;34m\u001b[0m\u001b[0;34m\u001b[0m\u001b[0m\n\u001b[1;32m   3039\u001b[0m             \u001b[0;31m# set column\u001b[0m\u001b[0;34m\u001b[0m\u001b[0;34m\u001b[0m\u001b[0;34m\u001b[0m\u001b[0m\n\u001b[0;32m-> 3040\u001b[0;31m             \u001b[0mself\u001b[0m\u001b[0;34m.\u001b[0m\u001b[0m_set_item\u001b[0m\u001b[0;34m(\u001b[0m\u001b[0mkey\u001b[0m\u001b[0;34m,\u001b[0m \u001b[0mvalue\u001b[0m\u001b[0;34m)\u001b[0m\u001b[0;34m\u001b[0m\u001b[0;34m\u001b[0m\u001b[0m\n\u001b[0m\u001b[1;32m   3041\u001b[0m \u001b[0;34m\u001b[0m\u001b[0m\n\u001b[1;32m   3042\u001b[0m     \u001b[0;32mdef\u001b[0m \u001b[0m_setitem_slice\u001b[0m\u001b[0;34m(\u001b[0m\u001b[0mself\u001b[0m\u001b[0;34m,\u001b[0m \u001b[0mkey\u001b[0m\u001b[0;34m:\u001b[0m \u001b[0mslice\u001b[0m\u001b[0;34m,\u001b[0m \u001b[0mvalue\u001b[0m\u001b[0;34m)\u001b[0m\u001b[0;34m:\u001b[0m\u001b[0;34m\u001b[0m\u001b[0;34m\u001b[0m\u001b[0m\n",
      "\u001b[0;32m/usr/local/lib/python3.8/site-packages/pandas/core/frame.py\u001b[0m in \u001b[0;36m_set_item\u001b[0;34m(self, key, value)\u001b[0m\n\u001b[1;32m   3114\u001b[0m         \"\"\"\n\u001b[1;32m   3115\u001b[0m         \u001b[0mself\u001b[0m\u001b[0;34m.\u001b[0m\u001b[0m_ensure_valid_index\u001b[0m\u001b[0;34m(\u001b[0m\u001b[0mvalue\u001b[0m\u001b[0;34m)\u001b[0m\u001b[0;34m\u001b[0m\u001b[0;34m\u001b[0m\u001b[0m\n\u001b[0;32m-> 3116\u001b[0;31m         \u001b[0mvalue\u001b[0m \u001b[0;34m=\u001b[0m \u001b[0mself\u001b[0m\u001b[0;34m.\u001b[0m\u001b[0m_sanitize_column\u001b[0m\u001b[0;34m(\u001b[0m\u001b[0mkey\u001b[0m\u001b[0;34m,\u001b[0m \u001b[0mvalue\u001b[0m\u001b[0;34m)\u001b[0m\u001b[0;34m\u001b[0m\u001b[0;34m\u001b[0m\u001b[0m\n\u001b[0m\u001b[1;32m   3117\u001b[0m         \u001b[0mNDFrame\u001b[0m\u001b[0;34m.\u001b[0m\u001b[0m_set_item\u001b[0m\u001b[0;34m(\u001b[0m\u001b[0mself\u001b[0m\u001b[0;34m,\u001b[0m \u001b[0mkey\u001b[0m\u001b[0;34m,\u001b[0m \u001b[0mvalue\u001b[0m\u001b[0;34m)\u001b[0m\u001b[0;34m\u001b[0m\u001b[0;34m\u001b[0m\u001b[0m\n\u001b[1;32m   3118\u001b[0m \u001b[0;34m\u001b[0m\u001b[0m\n",
      "\u001b[0;32m/usr/local/lib/python3.8/site-packages/pandas/core/frame.py\u001b[0m in \u001b[0;36m_sanitize_column\u001b[0;34m(self, key, value, broadcast)\u001b[0m\n\u001b[1;32m   3762\u001b[0m \u001b[0;34m\u001b[0m\u001b[0m\n\u001b[1;32m   3763\u001b[0m             \u001b[0;31m# turn me into an ndarray\u001b[0m\u001b[0;34m\u001b[0m\u001b[0;34m\u001b[0m\u001b[0;34m\u001b[0m\u001b[0m\n\u001b[0;32m-> 3764\u001b[0;31m             \u001b[0mvalue\u001b[0m \u001b[0;34m=\u001b[0m \u001b[0msanitize_index\u001b[0m\u001b[0;34m(\u001b[0m\u001b[0mvalue\u001b[0m\u001b[0;34m,\u001b[0m \u001b[0mself\u001b[0m\u001b[0;34m.\u001b[0m\u001b[0mindex\u001b[0m\u001b[0;34m)\u001b[0m\u001b[0;34m\u001b[0m\u001b[0;34m\u001b[0m\u001b[0m\n\u001b[0m\u001b[1;32m   3765\u001b[0m             \u001b[0;32mif\u001b[0m \u001b[0;32mnot\u001b[0m \u001b[0misinstance\u001b[0m\u001b[0;34m(\u001b[0m\u001b[0mvalue\u001b[0m\u001b[0;34m,\u001b[0m \u001b[0;34m(\u001b[0m\u001b[0mnp\u001b[0m\u001b[0;34m.\u001b[0m\u001b[0mndarray\u001b[0m\u001b[0;34m,\u001b[0m \u001b[0mIndex\u001b[0m\u001b[0;34m)\u001b[0m\u001b[0;34m)\u001b[0m\u001b[0;34m:\u001b[0m\u001b[0;34m\u001b[0m\u001b[0;34m\u001b[0m\u001b[0m\n\u001b[1;32m   3766\u001b[0m                 \u001b[0;32mif\u001b[0m \u001b[0misinstance\u001b[0m\u001b[0;34m(\u001b[0m\u001b[0mvalue\u001b[0m\u001b[0;34m,\u001b[0m \u001b[0mlist\u001b[0m\u001b[0;34m)\u001b[0m \u001b[0;32mand\u001b[0m \u001b[0mlen\u001b[0m\u001b[0;34m(\u001b[0m\u001b[0mvalue\u001b[0m\u001b[0;34m)\u001b[0m \u001b[0;34m>\u001b[0m \u001b[0;36m0\u001b[0m\u001b[0;34m:\u001b[0m\u001b[0;34m\u001b[0m\u001b[0;34m\u001b[0m\u001b[0m\n",
      "\u001b[0;32m/usr/local/lib/python3.8/site-packages/pandas/core/internals/construction.py\u001b[0m in \u001b[0;36msanitize_index\u001b[0;34m(data, index)\u001b[0m\n\u001b[1;32m    745\u001b[0m     \"\"\"\n\u001b[1;32m    746\u001b[0m     \u001b[0;32mif\u001b[0m \u001b[0mlen\u001b[0m\u001b[0;34m(\u001b[0m\u001b[0mdata\u001b[0m\u001b[0;34m)\u001b[0m \u001b[0;34m!=\u001b[0m \u001b[0mlen\u001b[0m\u001b[0;34m(\u001b[0m\u001b[0mindex\u001b[0m\u001b[0;34m)\u001b[0m\u001b[0;34m:\u001b[0m\u001b[0;34m\u001b[0m\u001b[0;34m\u001b[0m\u001b[0m\n\u001b[0;32m--> 747\u001b[0;31m         raise ValueError(\n\u001b[0m\u001b[1;32m    748\u001b[0m             \u001b[0;34m\"Length of values \"\u001b[0m\u001b[0;34m\u001b[0m\u001b[0;34m\u001b[0m\u001b[0m\n\u001b[1;32m    749\u001b[0m             \u001b[0;34mf\"({len(data)}) \"\u001b[0m\u001b[0;34m\u001b[0m\u001b[0;34m\u001b[0m\u001b[0m\n",
      "\u001b[0;31mValueError\u001b[0m: Length of values (57) does not match length of index (2)"
     ]
    }
   ],
   "source": [
    "initial_values_test = [16.90502895927611, 0.4295457013574683, 0.029818099547511474, 0.07552850678733072, 15.895239819004606]\n",
    "t_range_test = [0, 5.6]\n",
    "gas_comp_test = [0.5000000000000027, 0.3750000000000019, 0.12500000000000067, 20.00000000000011]\n",
    "ml_model_test = model\n",
    "time_list_test = [0.0, 0.1, 0.2, 0.3, 0.4, 0.5, 0.6, 0.7, 0.8, 0.9, 1.0, 1.1, 1.2, 1.3, 1.4, 1.5, 1.6, 1.7, 1.8, 1.9, 2.0, 2.1, 2.2, 2.3, 2.4, 2.5, 2.6, 2.7, 2.8, 2.9, 3.0, 3.1, 3.2, 3.3, 3.4, 3.5, 3.6, 3.7, 3.8, 3.9, 4.0, 4.1, 4.2, 4.3, 4.4, 4.5, 4.6, 4.7, 4.8, 4.9, 5.0, 5.1, 5.2, 5.3, 5.4, 5.5, 5.6]\n",
    "\n",
    "solve_diff_eqs_ml(initial_values_test, t_range_test, time_list_test, gas_comp_test, ml_model_test)"
   ]
  },
  {
   "source": [
    "def get_model_predictions_6_slope(model_dict, input_df):\n",
    "    model_predictions = {}\n",
    "    ml_input, _ = get_X_y_arrays_conc(input_df, [1, 2, 3, 4, 5, 6, 7, 8, 9])\n",
    "\n",
    "    for model_name in model_dict.keys():\n",
    "        model = model_dict[model_name]\n",
    "\n",
    "        prediction_df = get_slope_prediction_df()\n",
    "        prediction = model.predict(ml_input)\n",
    "        prediction_df = pd.DataFrame(data=prediction, index=input_df.index, columns=['acetate', 'biomass', 'butanol', 'butyrate', 'ethanol'])\n",
    "        model_predictions[model_name] = prediction_df\n",
    "\n",
    "    return model_predictions"
   ],
   "cell_type": "code",
   "metadata": {},
   "execution_count": null,
   "outputs": []
  },
  {
   "cell_type": "code",
   "execution_count": 9,
   "metadata": {},
   "outputs": [
    {
     "output_type": "error",
     "ename": "NameError",
     "evalue": "name 'get_X_y_arrays_conc' is not defined",
     "traceback": [
      "\u001b[0;31m---------------------------------------------------------------------------\u001b[0m",
      "\u001b[0;31mNameError\u001b[0m                                 Traceback (most recent call last)",
      "\u001b[0;32m<ipython-input-9-1157d6739e12>\u001b[0m in \u001b[0;36m<module>\u001b[0;34m\u001b[0m\n\u001b[1;32m      1\u001b[0m \u001b[0;31m# from machine_learning.get_model_predictions import get_model_predictions_6, get_model_predictions_7\u001b[0m\u001b[0;34m\u001b[0m\u001b[0;34m\u001b[0m\u001b[0;34m\u001b[0m\u001b[0m\n\u001b[0;32m----> 2\u001b[0;31m \u001b[0mmeasured_time_predictions_6\u001b[0m \u001b[0;34m=\u001b[0m \u001b[0mget_model_predictions_6_slope\u001b[0m\u001b[0;34m(\u001b[0m\u001b[0mtrained_models_6\u001b[0m\u001b[0;34m,\u001b[0m \u001b[0mraw_data_6\u001b[0m\u001b[0;34m)\u001b[0m\u001b[0;34m\u001b[0m\u001b[0;34m\u001b[0m\u001b[0m\n\u001b[0m\u001b[1;32m      3\u001b[0m \u001b[0;31m# smoothed_time_predictions_6 = get_model_predictions_6(trained_models_6, smooth_data_6)\u001b[0m\u001b[0;34m\u001b[0m\u001b[0;34m\u001b[0m\u001b[0;34m\u001b[0m\u001b[0m\n\u001b[1;32m      4\u001b[0m \u001b[0;34m\u001b[0m\u001b[0m\n\u001b[1;32m      5\u001b[0m \u001b[0;31m# measured_time_predictions_7 = get_model_predictions_7(trained_models_7, raw_data_7)\u001b[0m\u001b[0;34m\u001b[0m\u001b[0;34m\u001b[0m\u001b[0;34m\u001b[0m\u001b[0m\n",
      "\u001b[0;32m<ipython-input-7-85490ea7c3b6>\u001b[0m in \u001b[0;36mget_model_predictions_6_slope\u001b[0;34m(model_dict, input_df)\u001b[0m\n\u001b[1;32m      1\u001b[0m \u001b[0;32mdef\u001b[0m \u001b[0mget_model_predictions_6_slope\u001b[0m\u001b[0;34m(\u001b[0m\u001b[0mmodel_dict\u001b[0m\u001b[0;34m,\u001b[0m \u001b[0minput_df\u001b[0m\u001b[0;34m)\u001b[0m\u001b[0;34m:\u001b[0m\u001b[0;34m\u001b[0m\u001b[0;34m\u001b[0m\u001b[0m\n\u001b[1;32m      2\u001b[0m     \u001b[0mmodel_predictions\u001b[0m \u001b[0;34m=\u001b[0m \u001b[0;34m{\u001b[0m\u001b[0;34m}\u001b[0m\u001b[0;34m\u001b[0m\u001b[0;34m\u001b[0m\u001b[0m\n\u001b[0;32m----> 3\u001b[0;31m     \u001b[0mml_input\u001b[0m\u001b[0;34m,\u001b[0m \u001b[0m_\u001b[0m \u001b[0;34m=\u001b[0m \u001b[0mget_X_y_arrays_conc\u001b[0m\u001b[0;34m(\u001b[0m\u001b[0minput_df\u001b[0m\u001b[0;34m,\u001b[0m \u001b[0;34m[\u001b[0m\u001b[0;36m1\u001b[0m\u001b[0;34m,\u001b[0m \u001b[0;36m2\u001b[0m\u001b[0;34m,\u001b[0m \u001b[0;36m3\u001b[0m\u001b[0;34m,\u001b[0m \u001b[0;36m4\u001b[0m\u001b[0;34m,\u001b[0m \u001b[0;36m5\u001b[0m\u001b[0;34m,\u001b[0m \u001b[0;36m6\u001b[0m\u001b[0;34m,\u001b[0m \u001b[0;36m7\u001b[0m\u001b[0;34m,\u001b[0m \u001b[0;36m8\u001b[0m\u001b[0;34m,\u001b[0m \u001b[0;36m9\u001b[0m\u001b[0;34m]\u001b[0m\u001b[0;34m)\u001b[0m\u001b[0;34m\u001b[0m\u001b[0;34m\u001b[0m\u001b[0m\n\u001b[0m\u001b[1;32m      4\u001b[0m \u001b[0;34m\u001b[0m\u001b[0m\n\u001b[1;32m      5\u001b[0m     \u001b[0;32mfor\u001b[0m \u001b[0mmodel_name\u001b[0m \u001b[0;32min\u001b[0m \u001b[0mmodel_dict\u001b[0m\u001b[0;34m.\u001b[0m\u001b[0mkeys\u001b[0m\u001b[0;34m(\u001b[0m\u001b[0;34m)\u001b[0m\u001b[0;34m:\u001b[0m\u001b[0;34m\u001b[0m\u001b[0;34m\u001b[0m\u001b[0m\n",
      "\u001b[0;31mNameError\u001b[0m: name 'get_X_y_arrays_conc' is not defined"
     ]
    }
   ],
   "source": [
    "# from machine_learning.get_model_predictions import get_model_predictions_6, get_model_predictions_7\n",
    "measured_time_predictions_6 = get_model_predictions_6_slope(trained_models_6, raw_data_6)\n",
    "# smoothed_time_predictions_6 = get_model_predictions_6(trained_models_6, smooth_data_6)\n",
    "\n",
    "# measured_time_predictions_7 = get_model_predictions_7(trained_models_7, raw_data_7)\n",
    "# smoothed_time_predictions_7 = get_model_predictions_7(trained_models_7, smooth_data_7)"
   ]
  },
  {
   "cell_type": "code",
   "execution_count": 177,
   "metadata": {},
   "outputs": [],
   "source": [
    "# works\n",
    "def get_only_starting_values (smooth_df):\n",
    "    df = smooth_df.reset_index(inplace=False, drop=False)\n",
    "    df = df[df['time'] == 0]\n",
    "    df.set_index(['composition', 'trial', 'time'], drop=True, inplace=True)\n",
    "    return df\n",
    "\n",
    "# works\n",
    "def get_time_range(smooth_df, composition, trial):\n",
    "    df = smooth_df.reset_index(inplace=False, drop=False)\n",
    "    df = df[df['composition'] == composition]\n",
    "    df = df[df['trial'] == trial]\n",
    "\n",
    "    time_range = [0, max(df['time'])]\n",
    "    return time_range\n",
    "\n",
    "def get_times(smooth_df, composition, trial):\n",
    "    df = smooth_df.reset_index(inplace=False, drop=False)\n",
    "    df = df[df['composition'] == composition]\n",
    "    df = df[df['trial'] == trial]\n",
    "\n",
    "    time_list = list(df['time'])\n",
    "    return time_list"
   ]
  },
  {
   "cell_type": "code",
   "execution_count": 178,
   "metadata": {},
   "outputs": [
    {
     "output_type": "execute_result",
     "data": {
      "text/plain": [
       "[0.0,\n",
       " 0.1,\n",
       " 0.2,\n",
       " 0.3,\n",
       " 0.4,\n",
       " 0.5,\n",
       " 0.6,\n",
       " 0.7,\n",
       " 0.8,\n",
       " 0.9,\n",
       " 1.0,\n",
       " 1.1,\n",
       " 1.2,\n",
       " 1.3,\n",
       " 1.4,\n",
       " 1.5,\n",
       " 1.6,\n",
       " 1.7,\n",
       " 1.8,\n",
       " 1.9,\n",
       " 2.0,\n",
       " 2.1,\n",
       " 2.2,\n",
       " 2.3,\n",
       " 2.4,\n",
       " 2.5,\n",
       " 2.6,\n",
       " 2.7,\n",
       " 2.8,\n",
       " 2.9,\n",
       " 3.0,\n",
       " 3.1,\n",
       " 3.2,\n",
       " 3.3,\n",
       " 3.4,\n",
       " 3.5,\n",
       " 3.6,\n",
       " 3.7,\n",
       " 3.8,\n",
       " 3.9,\n",
       " 4.0,\n",
       " 4.1,\n",
       " 4.2,\n",
       " 4.3,\n",
       " 4.4,\n",
       " 4.5,\n",
       " 4.6,\n",
       " 4.7,\n",
       " 4.8,\n",
       " 4.9,\n",
       " 5.0,\n",
       " 5.1,\n",
       " 5.2,\n",
       " 5.3,\n",
       " 5.4,\n",
       " 5.5,\n",
       " 5.6]"
      ]
     },
     "metadata": {},
     "execution_count": 178
    }
   ],
   "source": [
    "\n",
    "get_times(smooth_data_6, 1, 1)\n",
    "       "
   ]
  },
  {
   "cell_type": "code",
   "execution_count": 180,
   "metadata": {},
   "outputs": [],
   "source": [
    "def loop_starting_values(smooth_df):\n",
    "    starting_value_df = get_only_starting_values(smooth_df)\n",
    "\n",
    "    for i in starting_value_df.iterrows():\n",
    "        initial_values = [i[1]['acetate'], i[1]['biomass'], i[1]['butanol'], i[1]['butyrate'], i[1]['ethanol']]\n",
    "        gas_comp = [i[1]['CO'], i[1]['CO2'], i[1]['H2'], i[1]['flow rate']]\n",
    "        time_range = get_time_range(smooth_df, i[0][0], i[0][1])\n",
    "        time_list = get_times(smooth_df, i[0][0], i[0][1])\n",
    "        print(i[0][0], i[0][1], initial_values, gas_comp, time_range, time_list)\n"
   ]
  },
  {
   "cell_type": "code",
   "execution_count": 181,
   "metadata": {},
   "outputs": [
    {
     "output_type": "stream",
     "name": "stdout",
     "text": [
      "1 1 [16.90502895927611, 0.4295457013574683, 0.029818099547511474, 0.07552850678733072, 15.895239819004606] [0.5000000000000027, 0.3750000000000019, 0.12500000000000067, 20.00000000000011] [0, 5.6] [0.0, 0.1, 0.2, 0.3, 0.4, 0.5, 0.6, 0.7, 0.8, 0.9, 1.0, 1.1, 1.2, 1.3, 1.4, 1.5, 1.6, 1.7, 1.8, 1.9, 2.0, 2.1, 2.2, 2.3, 2.4, 2.5, 2.6, 2.7, 2.8, 2.9, 3.0, 3.1, 3.2, 3.3, 3.4, 3.5, 3.6, 3.7, 3.8, 3.9, 4.0, 4.1, 4.2, 4.3, 4.4, 4.5, 4.6, 4.7, 4.8, 4.9, 5.0, 5.1, 5.2, 5.3, 5.4, 5.5, 5.6]\n1 2 [15.080408144796461, 0.3895113122171966, 0.18045520361991046, 0.062025339366516184, 16.583848868778368] [0.5000000000000027, 0.3750000000000019, 0.12500000000000067, 20.00000000000011] [0, 5.6] [0.0, 0.1, 0.2, 0.3, 0.4, 0.5, 0.6, 0.7, 0.8, 0.9, 1.0, 1.1, 1.2, 1.3, 1.4, 1.5, 1.6, 1.7, 1.8, 1.9, 2.0, 2.1, 2.2, 2.3, 2.4, 2.5, 2.6, 2.7, 2.8, 2.9, 3.0, 3.1, 3.2, 3.3, 3.4, 3.5, 3.6, 3.7, 3.8, 3.9, 4.0, 4.1, 4.2, 4.3, 4.4, 4.5, 4.6, 4.7, 4.8, 4.9, 5.0, 5.1, 5.2, 5.3, 5.4, 5.5, 5.6]\n2 1 [17.1955701357467, 0.3522099547511331, 0.06762081447963837, 0.1571556561085981, 21.067345701357574] [0.3330000000000018, 0.2500000000000013, 0.4170000000000023, 20.00000000000011] [0, 4.6] [0.0, 0.1, 0.2, 0.3, 0.4, 0.5, 0.6, 0.7, 0.8, 0.9, 1.0, 1.1, 1.2, 1.3, 1.4, 1.5, 1.6, 1.7, 1.8, 1.9, 2.0, 2.1, 2.2, 2.3, 2.4, 2.5, 2.6, 2.7, 2.8, 2.9, 3.0, 3.1, 3.2, 3.3, 3.4, 3.5, 3.6, 3.7, 3.8, 3.9, 4.0, 4.1, 4.2, 4.3, 4.4, 4.5, 4.6]\n2 2 [15.409038009049857, 0.3697864253393685, 0.06817918552036235, 0.03598823529411788, 24.36996199095035] [0.3330000000000018, 0.2500000000000013, 0.4170000000000023, 20.00000000000011] [0, 4.6] [0.0, 0.1, 0.2, 0.3, 0.4, 0.5, 0.6, 0.7, 0.8, 0.9, 1.0, 1.1, 1.2, 1.3, 1.4, 1.5, 1.6, 1.7, 1.8, 1.9, 2.0, 2.1, 2.2, 2.3, 2.4, 2.5, 2.6, 2.7, 2.8, 2.9, 3.0, 3.1, 3.2, 3.3, 3.4, 3.5, 3.6, 3.7, 3.8, 3.9, 4.0, 4.1, 4.2, 4.3, 4.4, 4.5, 4.6]\n3 1 [13.197619909502333, 0.27995475113122315, 0.02777828054298657, 0.04557013574660658, 19.569904977375668] [0.2500000000000013, 0.4380000000000024, 0.3130000000000017, 20.00000000000011] [0, 5.7] [0.0, 0.1, 0.2, 0.3, 0.4, 0.5, 0.6, 0.7, 0.8, 0.9, 1.0, 1.1, 1.2, 1.3, 1.4, 1.5, 1.6, 1.7, 1.8, 1.9, 2.0, 2.1, 2.2, 2.3, 2.4, 2.5, 2.6, 2.7, 2.8, 2.9, 3.0, 3.1, 3.2, 3.3, 3.4, 3.5, 3.6, 3.7, 3.8, 3.9, 4.0, 4.1, 4.2, 4.3, 4.4, 4.5, 4.6, 4.7, 4.8, 4.9, 5.0, 5.1, 5.2, 5.3, 5.4, 5.5, 5.6, 5.7]\n3 2 [16.198875113122256, 0.30735294117647216, 0.09659728506787382, 0.2358914027149334, 18.896226244343996] [0.2500000000000013, 0.4380000000000024, 0.3130000000000017, 20.00000000000011] [0, 5.7] [0.0, 0.1, 0.2, 0.3, 0.4, 0.5, 0.6, 0.7, 0.8, 0.9, 1.0, 1.1, 1.2, 1.3, 1.4, 1.5, 1.6, 1.7, 1.8, 1.9, 2.0, 2.1, 2.2, 2.3, 2.4, 2.5, 2.6, 2.7, 2.8, 2.9, 3.0, 3.1, 3.2, 3.3, 3.4, 3.5, 3.6, 3.7, 3.8, 3.9, 4.0, 4.1, 4.2, 4.3, 4.4, 4.5, 4.6, 4.7, 4.8, 4.9, 5.0, 5.1, 5.2, 5.3, 5.4, 5.5, 5.6, 5.7]\n4 1 [7.4426606334842065, 0.2857556561085988, 0.09606787330316792, 0.1851628959276028, 16.39097285067882] [0.5000000000000027, 0.188000000000001, 0.3130000000000017, 20.00000000000011] [0, 5.1] [0.0, 0.1, 0.2, 0.3, 0.4, 0.5, 0.6, 0.7, 0.8, 0.9, 1.0, 1.1, 1.2, 1.3, 1.4, 1.5, 1.6, 1.7, 1.8, 1.9, 2.0, 2.1, 2.2, 2.3, 2.4, 2.5, 2.6, 2.7, 2.8, 2.9, 3.0, 3.1, 3.2, 3.3, 3.4, 3.5, 3.6, 3.7, 3.8, 3.9, 4.0, 4.1, 4.2, 4.3, 4.4, 4.5, 4.6, 4.7, 4.8, 4.9, 5.0, 5.1]\n4 2 [11.413597285067935, 0.2953076923076939, 0.08552941176470633, 0.14299095022624508, 16.38649321266977] [0.5000000000000027, 0.188000000000001, 0.3130000000000017, 20.00000000000011] [0, 5.1] [0.0, 0.1, 0.2, 0.3, 0.4, 0.5, 0.6, 0.7, 0.8, 0.9, 1.0, 1.1, 1.2, 1.3, 1.4, 1.5, 1.6, 1.7, 1.8, 1.9, 2.0, 2.1, 2.2, 2.3, 2.4, 2.5, 2.6, 2.7, 2.8, 2.9, 3.0, 3.1, 3.2, 3.3, 3.4, 3.5, 3.6, 3.7, 3.8, 3.9, 4.0, 4.1, 4.2, 4.3, 4.4, 4.5, 4.6, 4.7, 4.8, 4.9, 5.0, 5.1]\n5 1 [6.726021719457051, 0.3256380090497755, 0.016166515837104163, 0.11045067873303233, 5.16381357466066] [0.5000000000000027, 0.3750000000000019, 0.12500000000000067, 5.0000000000000275] [0, 4.7] [0.0, 0.1, 0.2, 0.3, 0.4, 0.5, 0.6, 0.7, 0.8, 0.9, 1.0, 1.1, 1.2, 1.3, 1.4, 1.5, 1.6, 1.7, 1.8, 1.9, 2.0, 2.1, 2.2, 2.3, 2.4, 2.5, 2.6, 2.7, 2.8, 2.9, 3.0, 3.1, 3.2, 3.3, 3.4, 3.5, 3.6, 3.7, 3.8, 3.9, 4.0, 4.1, 4.2, 4.3, 4.4, 4.5, 4.6, 4.7]\n6 1 [8.843519457013622, 0.2974977375565626, 0.031282352941176636, 0.17326968325791953, 5.638690497737588] [0.5000000000000027, 0.188000000000001, 0.3130000000000017, 5.0000000000000275] [0, 4.6] [0.0, 0.1, 0.2, 0.3, 0.4, 0.5, 0.6, 0.7, 0.8, 0.9, 1.0, 1.1, 1.2, 1.3, 1.4, 1.5, 1.6, 1.7, 1.8, 1.9, 2.0, 2.1, 2.2, 2.3, 2.4, 2.5, 2.6, 2.7, 2.8, 2.9, 3.0, 3.1, 3.2, 3.3, 3.4, 3.5, 3.6, 3.7, 3.8, 3.9, 4.0, 4.1, 4.2, 4.3, 4.4, 4.5, 4.6]\n7 1 [19.340291402715035, 1.0728045248868834, 0.13440000000000074, 0.3194018099547529, 14.216557466063426] [0.2000000000000011, 0.0, 0.8000000000000044, 20.00000000000011] [0, 4.0] [0.0, 0.1, 0.2, 0.3, 0.4, 0.5, 0.6, 0.7, 0.8, 0.9, 1.0, 1.1, 1.2, 1.3, 1.4, 1.5, 1.6, 1.7, 1.8, 1.9, 2.0, 2.1, 2.2, 2.3, 2.4, 2.5, 2.6, 2.7, 2.8, 2.9, 3.0, 3.1, 3.2, 3.3, 3.4, 3.5, 3.6, 3.7, 3.8, 3.9, 4.0]\n7 2 [22.03940995475125, 1.1965176470588297, 0.17275113122172034, 1.2126687782805492, 14.017827149321342] [0.2000000000000011, 0.0, 0.8000000000000044, 20.00000000000011] [0, 4.0] [0.0, 0.1, 0.2, 0.3, 0.4, 0.5, 0.6, 0.7, 0.8, 0.9, 1.0, 1.1, 1.2, 1.3, 1.4, 1.5, 1.6, 1.7, 1.8, 1.9, 2.0, 2.1, 2.2, 2.3, 2.4, 2.5, 2.6, 2.7, 2.8, 2.9, 3.0, 3.1, 3.2, 3.3, 3.4, 3.5, 3.6, 3.7, 3.8, 3.9, 4.0]\n8 1 [11.888294117647126, 1.0875755656108657, 0.17515113122172038, 0.2911384615384631, 14.039095927601887] [0.2000000000000011, 0.0, 0.8000000000000044, 10.000000000000053] [0, 4.0] [0.0, 0.1, 0.2, 0.3, 0.4, 0.5, 0.6, 0.7, 0.8, 0.9, 1.0, 1.1, 1.2, 1.3, 1.4, 1.5, 1.6, 1.7, 1.8, 1.9, 2.0, 2.1, 2.2, 2.3, 2.4, 2.5, 2.6, 2.7, 2.8, 2.9, 3.0, 3.1, 3.2, 3.3, 3.4, 3.5, 3.6, 3.7, 3.8, 3.9, 4.0]\n8 2 [16.428428959276108, 1.1003927601810013, 0.1158244343891409, 1.0816162895927661, 15.64801900452497] [0.2000000000000011, 0.0, 0.8000000000000044, 10.000000000000053] [0, 4.0] [0.0, 0.1, 0.2, 0.3, 0.4, 0.5, 0.6, 0.7, 0.8, 0.9, 1.0, 1.1, 1.2, 1.3, 1.4, 1.5, 1.6, 1.7, 1.8, 1.9, 2.0, 2.1, 2.2, 2.3, 2.4, 2.5, 2.6, 2.7, 2.8, 2.9, 3.0, 3.1, 3.2, 3.3, 3.4, 3.5, 3.6, 3.7, 3.8, 3.9, 4.0]\n9 1 [37.8718443438916, 1.2367285067873368, 1.2003330316742145, 3.666143891402735, 12.956310407239885] [0.2000000000000011, 0.0, 0.8000000000000044, 1.000000000000005] [0, 7.6] [0.0, 0.1, 0.2, 0.3, 0.4, 0.5, 0.6, 0.7, 0.8, 0.9, 1.0, 1.1, 1.2, 1.3, 1.4, 1.5, 1.6, 1.7, 1.8, 1.9, 2.0, 2.1, 2.2, 2.3, 2.4, 2.5, 2.6, 2.7, 2.8, 2.9, 3.0, 3.1, 3.2, 3.3, 3.4, 3.5, 3.6, 3.7, 3.8, 3.9, 4.0, 4.1, 4.2, 4.3, 4.4, 4.5, 4.6, 4.7, 4.8, 4.9, 5.0, 5.1, 5.2, 5.3, 5.4, 5.5, 5.6, 5.7, 5.8, 5.9, 6.0, 6.1, 6.2, 6.3, 6.4, 6.5, 6.6, 6.7, 6.8, 6.9, 7.0, 7.1, 7.2, 7.3, 7.4, 7.5, 7.6]\n9 2 [29.52173031674224, 1.1896651583710471, 1.026115837104078, 3.1335773755656278, 14.453932126696909] [0.2000000000000011, 0.0, 0.8000000000000044, 1.000000000000005] [0, 7.6] [0.0, 0.1, 0.2, 0.3, 0.4, 0.5, 0.6, 0.7, 0.8, 0.9, 1.0, 1.1, 1.2, 1.3, 1.4, 1.5, 1.6, 1.7, 1.8, 1.9, 2.0, 2.1, 2.2, 2.3, 2.4, 2.5, 2.6, 2.7, 2.8, 2.9, 3.0, 3.1, 3.2, 3.3, 3.4, 3.5, 3.6, 3.7, 3.8, 3.9, 4.0, 4.1, 4.2, 4.3, 4.4, 4.5, 4.6, 4.7, 4.8, 4.9, 5.0, 5.1, 5.2, 5.3, 5.4, 5.5, 5.6, 5.7, 5.8, 5.9, 6.0, 6.1, 6.2, 6.3, 6.4, 6.5, 6.6, 6.7, 6.8, 6.9, 7.0, 7.1, 7.2, 7.3, 7.4, 7.5, 7.6]\n"
     ]
    }
   ],
   "source": [
    "# starting_df = get_only_starting_values (smooth_data_6)\n",
    "loop_starting_values(smooth_data_6)"
   ]
  },
  {
   "cell_type": "code",
   "execution_count": 117,
   "metadata": {},
   "outputs": [
    {
     "output_type": "execute_result",
     "data": {
      "text/plain": [
       "                           CO    CO2     H2    acetate   biomass   butanol  \\\n",
       "composition trial time                                                       \n",
       "1           1     0.0   0.500  0.375  0.125  16.905029  0.429546  0.029818   \n",
       "            2     0.0   0.500  0.375  0.125  15.080408  0.389511  0.180455   \n",
       "2           1     0.0   0.333  0.250  0.417  17.195570  0.352210  0.067621   \n",
       "            2     0.0   0.333  0.250  0.417  15.409038  0.369786  0.068179   \n",
       "3           1     0.0   0.250  0.438  0.313  13.197620  0.279955  0.027778   \n",
       "            2     0.0   0.250  0.438  0.313  16.198875  0.307353  0.096597   \n",
       "4           1     0.0   0.500  0.188  0.313   7.442661  0.285756  0.096068   \n",
       "            2     0.0   0.500  0.188  0.313  11.413597  0.295308  0.085529   \n",
       "5           1     0.0   0.500  0.375  0.125   6.726022  0.325638  0.016167   \n",
       "6           1     0.0   0.500  0.188  0.313   8.843519  0.297498  0.031282   \n",
       "7           1     0.0   0.200  0.000  0.800  19.340291  1.072805  0.134400   \n",
       "            2     0.0   0.200  0.000  0.800  22.039410  1.196518  0.172751   \n",
       "8           1     0.0   0.200  0.000  0.800  11.888294  1.087576  0.175151   \n",
       "            2     0.0   0.200  0.000  0.800  16.428429  1.100393  0.115824   \n",
       "9           1     0.0   0.200  0.000  0.800  37.871844  1.236729  1.200333   \n",
       "            2     0.0   0.200  0.000  0.800  29.521730  1.189665  1.026116   \n",
       "\n",
       "                        butyrate    ethanol  flow rate  acetate_0  biomass_0  \\\n",
       "composition trial time                                                         \n",
       "1           1     0.0   0.075529  15.895240       20.0  16.905029   0.429546   \n",
       "            2     0.0   0.062025  16.583849       20.0  15.080408   0.389511   \n",
       "2           1     0.0   0.157156  21.067346       20.0  17.195570   0.352210   \n",
       "            2     0.0   0.035988  24.369962       20.0  15.409038   0.369786   \n",
       "3           1     0.0   0.045570  19.569905       20.0  13.197620   0.279955   \n",
       "            2     0.0   0.235891  18.896226       20.0  16.198875   0.307353   \n",
       "4           1     0.0   0.185163  16.390973       20.0   7.442661   0.285756   \n",
       "            2     0.0   0.142991  16.386493       20.0  11.413597   0.295308   \n",
       "5           1     0.0   0.110451   5.163814        5.0   6.726022   0.325638   \n",
       "6           1     0.0   0.173270   5.638690        5.0   8.843519   0.297498   \n",
       "7           1     0.0   0.319402  14.216557       20.0  19.340291   1.072805   \n",
       "            2     0.0   1.212669  14.017827       20.0  22.039410   1.196518   \n",
       "8           1     0.0   0.291138  14.039096       10.0  11.888294   1.087576   \n",
       "            2     0.0   1.081616  15.648019       10.0  16.428429   1.100393   \n",
       "9           1     0.0   3.666144  12.956310        1.0  37.871844   1.236729   \n",
       "            2     0.0   3.133577  14.453932        1.0  29.521730   1.189665   \n",
       "\n",
       "                        butanol_0  butyrate_0  ethanol_0  acetate_Δ  \\\n",
       "composition trial time                                                \n",
       "1           1     0.0    0.029818    0.075529  15.895240        0.0   \n",
       "            2     0.0    0.180455    0.062025  16.583849        0.0   \n",
       "2           1     0.0    0.067621    0.157156  21.067346        0.0   \n",
       "            2     0.0    0.068179    0.035988  24.369962        0.0   \n",
       "3           1     0.0    0.027778    0.045570  19.569905        0.0   \n",
       "            2     0.0    0.096597    0.235891  18.896226        0.0   \n",
       "4           1     0.0    0.096068    0.185163  16.390973        0.0   \n",
       "            2     0.0    0.085529    0.142991  16.386493        0.0   \n",
       "5           1     0.0    0.016167    0.110451   5.163814        0.0   \n",
       "6           1     0.0    0.031282    0.173270   5.638690        0.0   \n",
       "7           1     0.0    0.134400    0.319402  14.216557        0.0   \n",
       "            2     0.0    0.172751    1.212669  14.017827        0.0   \n",
       "8           1     0.0    0.175151    0.291138  14.039096        0.0   \n",
       "            2     0.0    0.115824    1.081616  15.648019        0.0   \n",
       "9           1     0.0    1.200333    3.666144  12.956310        0.0   \n",
       "            2     0.0    1.026116    3.133577  14.453932        0.0   \n",
       "\n",
       "                        biomass_Δ  butanol_Δ  butyrate_Δ  ethanol_Δ  \n",
       "composition trial time                                               \n",
       "1           1     0.0         0.0        0.0         0.0        0.0  \n",
       "            2     0.0         0.0        0.0         0.0        0.0  \n",
       "2           1     0.0         0.0        0.0         0.0        0.0  \n",
       "            2     0.0         0.0        0.0         0.0        0.0  \n",
       "3           1     0.0         0.0        0.0         0.0        0.0  \n",
       "            2     0.0         0.0        0.0         0.0        0.0  \n",
       "4           1     0.0         0.0        0.0         0.0        0.0  \n",
       "            2     0.0         0.0        0.0         0.0        0.0  \n",
       "5           1     0.0         0.0        0.0         0.0        0.0  \n",
       "6           1     0.0         0.0        0.0         0.0        0.0  \n",
       "7           1     0.0         0.0        0.0         0.0        0.0  \n",
       "            2     0.0         0.0        0.0         0.0        0.0  \n",
       "8           1     0.0         0.0        0.0         0.0        0.0  \n",
       "            2     0.0         0.0        0.0         0.0        0.0  \n",
       "9           1     0.0         0.0        0.0         0.0        0.0  \n",
       "            2     0.0         0.0        0.0         0.0        0.0  "
      ],
      "text/html": "<div>\n<style scoped>\n    .dataframe tbody tr th:only-of-type {\n        vertical-align: middle;\n    }\n\n    .dataframe tbody tr th {\n        vertical-align: top;\n    }\n\n    .dataframe thead th {\n        text-align: right;\n    }\n</style>\n<table border=\"1\" class=\"dataframe\">\n  <thead>\n    <tr style=\"text-align: right;\">\n      <th></th>\n      <th></th>\n      <th></th>\n      <th>CO</th>\n      <th>CO2</th>\n      <th>H2</th>\n      <th>acetate</th>\n      <th>biomass</th>\n      <th>butanol</th>\n      <th>butyrate</th>\n      <th>ethanol</th>\n      <th>flow rate</th>\n      <th>acetate_0</th>\n      <th>biomass_0</th>\n      <th>butanol_0</th>\n      <th>butyrate_0</th>\n      <th>ethanol_0</th>\n      <th>acetate_Δ</th>\n      <th>biomass_Δ</th>\n      <th>butanol_Δ</th>\n      <th>butyrate_Δ</th>\n      <th>ethanol_Δ</th>\n    </tr>\n    <tr>\n      <th>composition</th>\n      <th>trial</th>\n      <th>time</th>\n      <th></th>\n      <th></th>\n      <th></th>\n      <th></th>\n      <th></th>\n      <th></th>\n      <th></th>\n      <th></th>\n      <th></th>\n      <th></th>\n      <th></th>\n      <th></th>\n      <th></th>\n      <th></th>\n      <th></th>\n      <th></th>\n      <th></th>\n      <th></th>\n      <th></th>\n    </tr>\n  </thead>\n  <tbody>\n    <tr>\n      <th rowspan=\"2\" valign=\"top\">1</th>\n      <th>1</th>\n      <th>0.0</th>\n      <td>0.500</td>\n      <td>0.375</td>\n      <td>0.125</td>\n      <td>16.905029</td>\n      <td>0.429546</td>\n      <td>0.029818</td>\n      <td>0.075529</td>\n      <td>15.895240</td>\n      <td>20.0</td>\n      <td>16.905029</td>\n      <td>0.429546</td>\n      <td>0.029818</td>\n      <td>0.075529</td>\n      <td>15.895240</td>\n      <td>0.0</td>\n      <td>0.0</td>\n      <td>0.0</td>\n      <td>0.0</td>\n      <td>0.0</td>\n    </tr>\n    <tr>\n      <th>2</th>\n      <th>0.0</th>\n      <td>0.500</td>\n      <td>0.375</td>\n      <td>0.125</td>\n      <td>15.080408</td>\n      <td>0.389511</td>\n      <td>0.180455</td>\n      <td>0.062025</td>\n      <td>16.583849</td>\n      <td>20.0</td>\n      <td>15.080408</td>\n      <td>0.389511</td>\n      <td>0.180455</td>\n      <td>0.062025</td>\n      <td>16.583849</td>\n      <td>0.0</td>\n      <td>0.0</td>\n      <td>0.0</td>\n      <td>0.0</td>\n      <td>0.0</td>\n    </tr>\n    <tr>\n      <th rowspan=\"2\" valign=\"top\">2</th>\n      <th>1</th>\n      <th>0.0</th>\n      <td>0.333</td>\n      <td>0.250</td>\n      <td>0.417</td>\n      <td>17.195570</td>\n      <td>0.352210</td>\n      <td>0.067621</td>\n      <td>0.157156</td>\n      <td>21.067346</td>\n      <td>20.0</td>\n      <td>17.195570</td>\n      <td>0.352210</td>\n      <td>0.067621</td>\n      <td>0.157156</td>\n      <td>21.067346</td>\n      <td>0.0</td>\n      <td>0.0</td>\n      <td>0.0</td>\n      <td>0.0</td>\n      <td>0.0</td>\n    </tr>\n    <tr>\n      <th>2</th>\n      <th>0.0</th>\n      <td>0.333</td>\n      <td>0.250</td>\n      <td>0.417</td>\n      <td>15.409038</td>\n      <td>0.369786</td>\n      <td>0.068179</td>\n      <td>0.035988</td>\n      <td>24.369962</td>\n      <td>20.0</td>\n      <td>15.409038</td>\n      <td>0.369786</td>\n      <td>0.068179</td>\n      <td>0.035988</td>\n      <td>24.369962</td>\n      <td>0.0</td>\n      <td>0.0</td>\n      <td>0.0</td>\n      <td>0.0</td>\n      <td>0.0</td>\n    </tr>\n    <tr>\n      <th rowspan=\"2\" valign=\"top\">3</th>\n      <th>1</th>\n      <th>0.0</th>\n      <td>0.250</td>\n      <td>0.438</td>\n      <td>0.313</td>\n      <td>13.197620</td>\n      <td>0.279955</td>\n      <td>0.027778</td>\n      <td>0.045570</td>\n      <td>19.569905</td>\n      <td>20.0</td>\n      <td>13.197620</td>\n      <td>0.279955</td>\n      <td>0.027778</td>\n      <td>0.045570</td>\n      <td>19.569905</td>\n      <td>0.0</td>\n      <td>0.0</td>\n      <td>0.0</td>\n      <td>0.0</td>\n      <td>0.0</td>\n    </tr>\n    <tr>\n      <th>2</th>\n      <th>0.0</th>\n      <td>0.250</td>\n      <td>0.438</td>\n      <td>0.313</td>\n      <td>16.198875</td>\n      <td>0.307353</td>\n      <td>0.096597</td>\n      <td>0.235891</td>\n      <td>18.896226</td>\n      <td>20.0</td>\n      <td>16.198875</td>\n      <td>0.307353</td>\n      <td>0.096597</td>\n      <td>0.235891</td>\n      <td>18.896226</td>\n      <td>0.0</td>\n      <td>0.0</td>\n      <td>0.0</td>\n      <td>0.0</td>\n      <td>0.0</td>\n    </tr>\n    <tr>\n      <th rowspan=\"2\" valign=\"top\">4</th>\n      <th>1</th>\n      <th>0.0</th>\n      <td>0.500</td>\n      <td>0.188</td>\n      <td>0.313</td>\n      <td>7.442661</td>\n      <td>0.285756</td>\n      <td>0.096068</td>\n      <td>0.185163</td>\n      <td>16.390973</td>\n      <td>20.0</td>\n      <td>7.442661</td>\n      <td>0.285756</td>\n      <td>0.096068</td>\n      <td>0.185163</td>\n      <td>16.390973</td>\n      <td>0.0</td>\n      <td>0.0</td>\n      <td>0.0</td>\n      <td>0.0</td>\n      <td>0.0</td>\n    </tr>\n    <tr>\n      <th>2</th>\n      <th>0.0</th>\n      <td>0.500</td>\n      <td>0.188</td>\n      <td>0.313</td>\n      <td>11.413597</td>\n      <td>0.295308</td>\n      <td>0.085529</td>\n      <td>0.142991</td>\n      <td>16.386493</td>\n      <td>20.0</td>\n      <td>11.413597</td>\n      <td>0.295308</td>\n      <td>0.085529</td>\n      <td>0.142991</td>\n      <td>16.386493</td>\n      <td>0.0</td>\n      <td>0.0</td>\n      <td>0.0</td>\n      <td>0.0</td>\n      <td>0.0</td>\n    </tr>\n    <tr>\n      <th>5</th>\n      <th>1</th>\n      <th>0.0</th>\n      <td>0.500</td>\n      <td>0.375</td>\n      <td>0.125</td>\n      <td>6.726022</td>\n      <td>0.325638</td>\n      <td>0.016167</td>\n      <td>0.110451</td>\n      <td>5.163814</td>\n      <td>5.0</td>\n      <td>6.726022</td>\n      <td>0.325638</td>\n      <td>0.016167</td>\n      <td>0.110451</td>\n      <td>5.163814</td>\n      <td>0.0</td>\n      <td>0.0</td>\n      <td>0.0</td>\n      <td>0.0</td>\n      <td>0.0</td>\n    </tr>\n    <tr>\n      <th>6</th>\n      <th>1</th>\n      <th>0.0</th>\n      <td>0.500</td>\n      <td>0.188</td>\n      <td>0.313</td>\n      <td>8.843519</td>\n      <td>0.297498</td>\n      <td>0.031282</td>\n      <td>0.173270</td>\n      <td>5.638690</td>\n      <td>5.0</td>\n      <td>8.843519</td>\n      <td>0.297498</td>\n      <td>0.031282</td>\n      <td>0.173270</td>\n      <td>5.638690</td>\n      <td>0.0</td>\n      <td>0.0</td>\n      <td>0.0</td>\n      <td>0.0</td>\n      <td>0.0</td>\n    </tr>\n    <tr>\n      <th rowspan=\"2\" valign=\"top\">7</th>\n      <th>1</th>\n      <th>0.0</th>\n      <td>0.200</td>\n      <td>0.000</td>\n      <td>0.800</td>\n      <td>19.340291</td>\n      <td>1.072805</td>\n      <td>0.134400</td>\n      <td>0.319402</td>\n      <td>14.216557</td>\n      <td>20.0</td>\n      <td>19.340291</td>\n      <td>1.072805</td>\n      <td>0.134400</td>\n      <td>0.319402</td>\n      <td>14.216557</td>\n      <td>0.0</td>\n      <td>0.0</td>\n      <td>0.0</td>\n      <td>0.0</td>\n      <td>0.0</td>\n    </tr>\n    <tr>\n      <th>2</th>\n      <th>0.0</th>\n      <td>0.200</td>\n      <td>0.000</td>\n      <td>0.800</td>\n      <td>22.039410</td>\n      <td>1.196518</td>\n      <td>0.172751</td>\n      <td>1.212669</td>\n      <td>14.017827</td>\n      <td>20.0</td>\n      <td>22.039410</td>\n      <td>1.196518</td>\n      <td>0.172751</td>\n      <td>1.212669</td>\n      <td>14.017827</td>\n      <td>0.0</td>\n      <td>0.0</td>\n      <td>0.0</td>\n      <td>0.0</td>\n      <td>0.0</td>\n    </tr>\n    <tr>\n      <th rowspan=\"2\" valign=\"top\">8</th>\n      <th>1</th>\n      <th>0.0</th>\n      <td>0.200</td>\n      <td>0.000</td>\n      <td>0.800</td>\n      <td>11.888294</td>\n      <td>1.087576</td>\n      <td>0.175151</td>\n      <td>0.291138</td>\n      <td>14.039096</td>\n      <td>10.0</td>\n      <td>11.888294</td>\n      <td>1.087576</td>\n      <td>0.175151</td>\n      <td>0.291138</td>\n      <td>14.039096</td>\n      <td>0.0</td>\n      <td>0.0</td>\n      <td>0.0</td>\n      <td>0.0</td>\n      <td>0.0</td>\n    </tr>\n    <tr>\n      <th>2</th>\n      <th>0.0</th>\n      <td>0.200</td>\n      <td>0.000</td>\n      <td>0.800</td>\n      <td>16.428429</td>\n      <td>1.100393</td>\n      <td>0.115824</td>\n      <td>1.081616</td>\n      <td>15.648019</td>\n      <td>10.0</td>\n      <td>16.428429</td>\n      <td>1.100393</td>\n      <td>0.115824</td>\n      <td>1.081616</td>\n      <td>15.648019</td>\n      <td>0.0</td>\n      <td>0.0</td>\n      <td>0.0</td>\n      <td>0.0</td>\n      <td>0.0</td>\n    </tr>\n    <tr>\n      <th rowspan=\"2\" valign=\"top\">9</th>\n      <th>1</th>\n      <th>0.0</th>\n      <td>0.200</td>\n      <td>0.000</td>\n      <td>0.800</td>\n      <td>37.871844</td>\n      <td>1.236729</td>\n      <td>1.200333</td>\n      <td>3.666144</td>\n      <td>12.956310</td>\n      <td>1.0</td>\n      <td>37.871844</td>\n      <td>1.236729</td>\n      <td>1.200333</td>\n      <td>3.666144</td>\n      <td>12.956310</td>\n      <td>0.0</td>\n      <td>0.0</td>\n      <td>0.0</td>\n      <td>0.0</td>\n      <td>0.0</td>\n    </tr>\n    <tr>\n      <th>2</th>\n      <th>0.0</th>\n      <td>0.200</td>\n      <td>0.000</td>\n      <td>0.800</td>\n      <td>29.521730</td>\n      <td>1.189665</td>\n      <td>1.026116</td>\n      <td>3.133577</td>\n      <td>14.453932</td>\n      <td>1.0</td>\n      <td>29.521730</td>\n      <td>1.189665</td>\n      <td>1.026116</td>\n      <td>3.133577</td>\n      <td>14.453932</td>\n      <td>0.0</td>\n      <td>0.0</td>\n      <td>0.0</td>\n      <td>0.0</td>\n      <td>0.0</td>\n    </tr>\n  </tbody>\n</table>\n</div>"
     },
     "metadata": {},
     "execution_count": 117
    }
   ],
   "source": [
    "starting_value_df = get_only_starting_values(smooth_data_6)\n",
    "starting_value_df"
   ]
  },
  {
   "cell_type": "code",
   "execution_count": null,
   "metadata": {},
   "outputs": [],
   "source": [
    "\n",
    "\n",
    "from machine_learning.get_model_metrics import get_pearson_r2, get_rmse\n",
    "\n",
    "def evaluate_models_6(pred_df_dict, raw_df, metric):\n",
    "    species_set = ['acetate', 'biomass', 'butanol', 'butyrate', 'ethanol']\n",
    "    test_comp_set=[1,2,3,4,5,6]\n",
    "    index_set = ['gradient boosting, raw', 'random forest, raw', 'support vector, raw', 'neural net, raw', 'lasso, raw', 'gradient boosting, smooth', 'random forest, smooth', 'support vector, smooth', 'neural net, smooth', 'lasso, smooth']\n",
    "    \n",
    "    for species in species_set:\n",
    "        data = {}\n",
    "        for test_comp in test_comp_set:\n",
    "            data[test_comp] = []\n",
    "            for model_name in pred_df_dict.keys():\n",
    "                if str(test_comp) in model_name:\n",
    "                    predicted_species_values = list(pred_df_dict[model_name].loc[test_comp][species])\n",
    "                    measured_species_values = list(raw_df.loc[test_comp][species])\n",
    "\n",
    "                    r2 = get_pearson_r2(measured_species_values, predicted_species_values)\n",
    "                    rmse = get_rmse (measured_species_values, predicted_species_values)\n",
    "                    if metric == 'r2':\n",
    "                        data[test_comp].append(r2)\n",
    "                    elif metric == 'rmse':\n",
    "                        data[test_comp].append(rmse)\n",
    "                    else:\n",
    "                        print('unknown metric')\n",
    "        species_data = pd.DataFrame.from_dict(data)\n",
    "        species_data[f'model for {species}'] = index_set\n",
    "        species_data.set_index(f'model for {species}', inplace=True, drop=True)\n",
    "        display(species_data)\n",
    "\n",
    "def evaluate_models_7(pred_df_dict, raw_df, metric):\n",
    "    species_set = ['acetate', 'biomass', 'butanol', 'butyrate', 'ethanol']\n",
    "    test_comp_set=[1,2,3,4,5,6,7]\n",
    "    index_set = ['gradient boosting, raw', 'random forest, raw', 'support vector, raw', 'neural net, raw', 'lasso, raw', 'gradient boosting, smooth', 'random forest, smooth', 'support vector, smooth', 'neural net, smooth', 'lasso, smooth']\n",
    "    \n",
    "    for species in species_set:\n",
    "        data = {}\n",
    "        for test_comp in test_comp_set:\n",
    "            data[test_comp] = []\n",
    "            for model_name in pred_df_dict.keys():\n",
    "                # print(model_name)\n",
    "                if str(test_comp) in model_name:\n",
    "                    predicted_species_values = list(pred_df_dict[model_name].loc[test_comp][species])\n",
    "                    measured_species_values = list(raw_df.loc[test_comp][species])\n",
    "\n",
    "                    r2 = get_pearson_r2(measured_species_values, predicted_species_values)\n",
    "                    rmse = get_rmse (measured_species_values, predicted_species_values)\n",
    "                    if metric == 'r2':\n",
    "                        data[test_comp].append(r2)\n",
    "                    elif metric == 'rmse':\n",
    "                        data[test_comp].append(rmse)\n",
    "                    else:\n",
    "                        print('unknown metric')\n",
    "        species_data = pd.DataFrame.from_dict(data)\n",
    "        species_data[f'model for {species}'] = index_set\n",
    "        species_data.set_index(f'model for {species}', inplace=True, drop=True)\n",
    "        display(species_data)"
   ]
  },
  {
   "cell_type": "code",
   "execution_count": null,
   "metadata": {
    "tags": []
   },
   "outputs": [],
   "source": [
    "evaluate_models_6(measured_time_predictions_6, raw_data_6, 'r2')"
   ]
  },
  {
   "cell_type": "code",
   "execution_count": null,
   "metadata": {},
   "outputs": [],
   "source": [
    "evaluate_models_6(measured_time_predictions_6, raw_data_6, 'rmse')"
   ]
  },
  {
   "cell_type": "code",
   "execution_count": null,
   "metadata": {},
   "outputs": [],
   "source": [
    "evaluate_models_7(measured_time_predictions_7, raw_data_7, 'r2')"
   ]
  },
  {
   "cell_type": "code",
   "execution_count": null,
   "metadata": {},
   "outputs": [],
   "source": [
    "evaluate_models_7(measured_time_predictions_7, raw_data_7, 'rmse')"
   ]
  },
  {
   "cell_type": "code",
   "execution_count": null,
   "metadata": {},
   "outputs": [],
   "source": [
    "\n",
    "\n",
    "from machine_learning.get_model_metrics import get_pearson_r2, get_rmse\n",
    "\n",
    "def validate_models_6(pred_df_dict, raw_df, metric):\n",
    "    species_set = ['acetate', 'biomass', 'butanol', 'butyrate', 'ethanol']\n",
    "    test_comp_set=[7, 8, 9]\n",
    "    index_set = ['gradient boosting, raw', 'random forest, raw', 'support vector, raw', 'neural net, raw', 'lasso, raw', 'gradient boosting, smooth', 'random forest, smooth', 'support vector, smooth', 'neural net, smooth', 'lasso, smooth']\n",
    "    \n",
    "    for species in species_set:\n",
    "        data = {}\n",
    "        for test_comp in test_comp_set:\n",
    "            data[test_comp] = []\n",
    "            for model_name in pred_df_dict.keys():\n",
    "                if 'none' in model_name:\n",
    "                    predicted_species_values = list(pred_df_dict[model_name].loc[test_comp][species])\n",
    "                    measured_species_values = list(raw_df.loc[test_comp][species])\n",
    "\n",
    "                    r2 = get_pearson_r2(measured_species_values, predicted_species_values)\n",
    "                    rmse = get_rmse (measured_species_values, predicted_species_values)\n",
    "                    if metric == 'r2':\n",
    "                        data[test_comp].append(r2)\n",
    "                    elif metric == 'rmse':\n",
    "                        data[test_comp].append(rmse)\n",
    "                    else:\n",
    "                        print('unknown metric')\n",
    "        species_data = pd.DataFrame.from_dict(data)\n",
    "        species_data[f'model for {species}'] = index_set\n",
    "        species_data.set_index(f'model for {species}', inplace=True, drop=True)\n",
    "        display(species_data)\n",
    "\n",
    "def validate_models_7(pred_df_dict, raw_df, metric):\n",
    "    species_set = ['acetate', 'biomass', 'butanol', 'butyrate', 'ethanol']\n",
    "    test_comp_set=[8, 9, 10]\n",
    "    index_set = ['gradient boosting, raw', 'random forest, raw', 'support vector, raw', 'neural net, raw', 'lasso, raw', 'gradient boosting, smooth', 'random forest, smooth', 'support vector, smooth', 'neural net, smooth', 'lasso, smooth']\n",
    "    \n",
    "    for species in species_set:\n",
    "        data = {}\n",
    "        for test_comp in test_comp_set:\n",
    "            data[test_comp] = []\n",
    "            for model_name in pred_df_dict.keys():\n",
    "                # print(model_name)\n",
    "                if 'none' in model_name:\n",
    "                    predicted_species_values = list(pred_df_dict[model_name].loc[test_comp][species])\n",
    "                    measured_species_values = list(raw_df.loc[test_comp][species])\n",
    "\n",
    "                    r2 = get_pearson_r2(measured_species_values, predicted_species_values)\n",
    "                    rmse = get_rmse (measured_species_values, predicted_species_values)\n",
    "                    if metric == 'r2':\n",
    "                        data[test_comp].append(r2)\n",
    "                    elif metric == 'rmse':\n",
    "                        data[test_comp].append(rmse)\n",
    "                    else:\n",
    "                        print('unknown metric')\n",
    "        species_data = pd.DataFrame.from_dict(data)\n",
    "        species_data[f'model for {species}'] = index_set\n",
    "        species_data.set_index(f'model for {species}', inplace=True, drop=True)\n",
    "        display(species_data)"
   ]
  },
  {
   "cell_type": "code",
   "execution_count": null,
   "metadata": {},
   "outputs": [],
   "source": [
    "validate_models_6(measured_time_predictions_6, raw_data_6, 'r2')"
   ]
  },
  {
   "cell_type": "code",
   "execution_count": null,
   "metadata": {},
   "outputs": [],
   "source": [
    "validate_models_6(measured_time_predictions_6, raw_data_6, 'rmse')"
   ]
  },
  {
   "cell_type": "code",
   "execution_count": null,
   "metadata": {},
   "outputs": [],
   "source": [
    "validate_models_7(measured_time_predictions_7, raw_data_7, 'r2')"
   ]
  },
  {
   "cell_type": "code",
   "execution_count": null,
   "metadata": {},
   "outputs": [],
   "source": [
    "validate_models_7(measured_time_predictions_7, raw_data_7, 'rmse')"
   ]
  },
  {
   "cell_type": "code",
   "execution_count": null,
   "metadata": {},
   "outputs": [],
   "source": [
    "smoothed_time_predictions_6['gradient boosting, smooth, test comp = none'].loc[[7,8,9]].to_csv(f'{cur_dir}/outputs/gb_smooth_val_6.csv')\n",
    "smoothed_time_predictions_7['gradient boosting, smooth, test comp = none'].loc[[8,9,10]].to_csv(f'{cur_dir}/outputs/gb_smooth_val_7.csv')"
   ]
  }
 ]
}
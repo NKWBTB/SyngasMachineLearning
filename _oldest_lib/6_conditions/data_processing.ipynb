{
 "metadata": {
  "language_info": {
   "codemirror_mode": {
    "name": "ipython",
    "version": 3
   },
   "file_extension": ".py",
   "mimetype": "text/x-python",
   "name": "python",
   "nbconvert_exporter": "python",
   "pygments_lexer": "ipython3",
   "version": "3.8.6-final"
  },
  "orig_nbformat": 2,
  "kernelspec": {
   "name": "python3",
   "display_name": "Python 3.8.6 64-bit",
   "metadata": {
    "interpreter": {
     "hash": "1ee38ef4a5a9feb55287fd749643f13d043cb0a7addaab2a9c224cbe137c0062"
    }
   }
  }
 },
 "nbformat": 4,
 "nbformat_minor": 2,
 "cells": [
  {
   "cell_type": "code",
   "execution_count": 1,
   "metadata": {},
   "outputs": [
    {
     "output_type": "execute_result",
     "data": {
      "text/plain": [
       "'/Users/garrettroell/Documents/VS_code_projects/machine_learning_clostridium/lib/6_conditions'"
      ]
     },
     "metadata": {},
     "execution_count": 1
    }
   ],
   "source": [
    "import pandas as pd\n",
    "import os\n",
    "cur_dir = os.getcwd()\n",
    "cur_dir"
   ]
  },
  {
   "cell_type": "code",
   "execution_count": 2,
   "metadata": {},
   "outputs": [],
   "source": [
    "exp_data = pd.read_csv(f'{cur_dir}/data/experimental_data.csv')\n",
    "exp_data.set_index(['composition','trial','time'],drop=True,inplace=True)"
   ]
  },
  {
   "cell_type": "code",
   "execution_count": 3,
   "metadata": {},
   "outputs": [
    {
     "output_type": "execute_result",
     "data": {
      "text/plain": [
       "                         acetate  biomass  butanol  butyrate  ethanol  \\\n",
       "composition trial time                                                  \n",
       "1           1     0.580   21.610     0.41    0.040     0.060   10.940   \n",
       "                  0.650   44.310     0.39    0.050     0.080   15.890   \n",
       "                  1.020   46.190     0.46    0.210     0.640    8.140   \n",
       "                  1.670   46.160     0.49    1.180     3.640   10.810   \n",
       "                  3.700   34.390     0.64    8.440     9.760   20.340   \n",
       "...                          ...      ...      ...       ...      ...   \n",
       "9           2     2.403   58.616     1.32    0.944     6.015    3.473   \n",
       "                  2.637   59.448     1.11    3.508    11.690   13.675   \n",
       "                  3.643   65.943     1.44    2.159    10.895    8.682   \n",
       "                  6.664   50.456     1.47    3.643    11.576   11.070   \n",
       "                  7.570   48.125     1.51    4.857    12.371   13.675   \n",
       "\n",
       "                         flow rate     H2   CO    CO2  \n",
       "composition trial time                                 \n",
       "1           1     0.580         20  0.125  0.5  0.375  \n",
       "                  0.650         20  0.125  0.5  0.375  \n",
       "                  1.020         20  0.125  0.5  0.375  \n",
       "                  1.670         20  0.125  0.5  0.375  \n",
       "                  3.700         20  0.125  0.5  0.375  \n",
       "...                            ...    ...  ...    ...  \n",
       "9           2     2.403          1  0.800  0.2  0.000  \n",
       "                  2.637          1  0.800  0.2  0.000  \n",
       "                  3.643          1  0.800  0.2  0.000  \n",
       "                  6.664          1  0.800  0.2  0.000  \n",
       "                  7.570          1  0.800  0.2  0.000  \n",
       "\n",
       "[102 rows x 9 columns]"
      ],
      "text/html": "<div>\n<style scoped>\n    .dataframe tbody tr th:only-of-type {\n        vertical-align: middle;\n    }\n\n    .dataframe tbody tr th {\n        vertical-align: top;\n    }\n\n    .dataframe thead th {\n        text-align: right;\n    }\n</style>\n<table border=\"1\" class=\"dataframe\">\n  <thead>\n    <tr style=\"text-align: right;\">\n      <th></th>\n      <th></th>\n      <th></th>\n      <th>acetate</th>\n      <th>biomass</th>\n      <th>butanol</th>\n      <th>butyrate</th>\n      <th>ethanol</th>\n      <th>flow rate</th>\n      <th>H2</th>\n      <th>CO</th>\n      <th>CO2</th>\n    </tr>\n    <tr>\n      <th>composition</th>\n      <th>trial</th>\n      <th>time</th>\n      <th></th>\n      <th></th>\n      <th></th>\n      <th></th>\n      <th></th>\n      <th></th>\n      <th></th>\n      <th></th>\n      <th></th>\n    </tr>\n  </thead>\n  <tbody>\n    <tr>\n      <th rowspan=\"5\" valign=\"top\">1</th>\n      <th rowspan=\"5\" valign=\"top\">1</th>\n      <th>0.580</th>\n      <td>21.610</td>\n      <td>0.41</td>\n      <td>0.040</td>\n      <td>0.060</td>\n      <td>10.940</td>\n      <td>20</td>\n      <td>0.125</td>\n      <td>0.5</td>\n      <td>0.375</td>\n    </tr>\n    <tr>\n      <th>0.650</th>\n      <td>44.310</td>\n      <td>0.39</td>\n      <td>0.050</td>\n      <td>0.080</td>\n      <td>15.890</td>\n      <td>20</td>\n      <td>0.125</td>\n      <td>0.5</td>\n      <td>0.375</td>\n    </tr>\n    <tr>\n      <th>1.020</th>\n      <td>46.190</td>\n      <td>0.46</td>\n      <td>0.210</td>\n      <td>0.640</td>\n      <td>8.140</td>\n      <td>20</td>\n      <td>0.125</td>\n      <td>0.5</td>\n      <td>0.375</td>\n    </tr>\n    <tr>\n      <th>1.670</th>\n      <td>46.160</td>\n      <td>0.49</td>\n      <td>1.180</td>\n      <td>3.640</td>\n      <td>10.810</td>\n      <td>20</td>\n      <td>0.125</td>\n      <td>0.5</td>\n      <td>0.375</td>\n    </tr>\n    <tr>\n      <th>3.700</th>\n      <td>34.390</td>\n      <td>0.64</td>\n      <td>8.440</td>\n      <td>9.760</td>\n      <td>20.340</td>\n      <td>20</td>\n      <td>0.125</td>\n      <td>0.5</td>\n      <td>0.375</td>\n    </tr>\n    <tr>\n      <th>...</th>\n      <th>...</th>\n      <th>...</th>\n      <td>...</td>\n      <td>...</td>\n      <td>...</td>\n      <td>...</td>\n      <td>...</td>\n      <td>...</td>\n      <td>...</td>\n      <td>...</td>\n      <td>...</td>\n    </tr>\n    <tr>\n      <th rowspan=\"5\" valign=\"top\">9</th>\n      <th rowspan=\"5\" valign=\"top\">2</th>\n      <th>2.403</th>\n      <td>58.616</td>\n      <td>1.32</td>\n      <td>0.944</td>\n      <td>6.015</td>\n      <td>3.473</td>\n      <td>1</td>\n      <td>0.800</td>\n      <td>0.2</td>\n      <td>0.000</td>\n    </tr>\n    <tr>\n      <th>2.637</th>\n      <td>59.448</td>\n      <td>1.11</td>\n      <td>3.508</td>\n      <td>11.690</td>\n      <td>13.675</td>\n      <td>1</td>\n      <td>0.800</td>\n      <td>0.2</td>\n      <td>0.000</td>\n    </tr>\n    <tr>\n      <th>3.643</th>\n      <td>65.943</td>\n      <td>1.44</td>\n      <td>2.159</td>\n      <td>10.895</td>\n      <td>8.682</td>\n      <td>1</td>\n      <td>0.800</td>\n      <td>0.2</td>\n      <td>0.000</td>\n    </tr>\n    <tr>\n      <th>6.664</th>\n      <td>50.456</td>\n      <td>1.47</td>\n      <td>3.643</td>\n      <td>11.576</td>\n      <td>11.070</td>\n      <td>1</td>\n      <td>0.800</td>\n      <td>0.2</td>\n      <td>0.000</td>\n    </tr>\n    <tr>\n      <th>7.570</th>\n      <td>48.125</td>\n      <td>1.51</td>\n      <td>4.857</td>\n      <td>12.371</td>\n      <td>13.675</td>\n      <td>1</td>\n      <td>0.800</td>\n      <td>0.2</td>\n      <td>0.000</td>\n    </tr>\n  </tbody>\n</table>\n<p>102 rows × 9 columns</p>\n</div>"
     },
     "metadata": {},
     "execution_count": 3
    }
   ],
   "source": [
    "from data_processing.subtract_one_day import subtract_one_day\n",
    "raw_data = subtract_one_day(exp_data)\n",
    "raw_data"
   ]
  },
  {
   "cell_type": "code",
   "execution_count": 4,
   "metadata": {},
   "outputs": [
    {
     "output_type": "execute_result",
     "data": {
      "text/plain": [
       "                         CO    CO2     H2    acetate   biomass   butanol  \\\n",
       "composition trial time                                                     \n",
       "1           1     0.0   0.5  0.375  0.125  16.905029  0.429546  0.029818   \n",
       "                  0.1   0.5  0.375  0.125  18.001195  0.421076  0.028260   \n",
       "                  0.2   0.5  0.375  0.125  19.831073  0.410803  0.028316   \n",
       "                  0.3   0.5  0.375  0.125  22.196249  0.403602  0.031357   \n",
       "                  0.4   0.5  0.375  0.125  25.293925  0.403709  0.028700   \n",
       "...                     ...    ...    ...        ...       ...       ...   \n",
       "9           2     7.2   0.2  0.000  0.800  48.933157  1.492815  4.343044   \n",
       "                  7.3   0.2  0.000  0.800  48.716525  1.497124  4.472496   \n",
       "                  7.4   0.2  0.000  0.800  48.533664  1.501679  4.607530   \n",
       "                  7.5   0.2  0.000  0.800  48.384573  1.506481  4.748145   \n",
       "                  7.6   0.2  0.000  0.800  48.269253  1.511529  4.894341   \n",
       "\n",
       "                         butyrate    ethanol  flow rate  \n",
       "composition trial time                                   \n",
       "1           1     0.0    0.075529  15.895240       20.0  \n",
       "                  0.1    0.061033  15.607023       20.0  \n",
       "                  0.2    0.051013  15.144135       20.0  \n",
       "                  0.3    0.050367  14.522308       20.0  \n",
       "                  0.4    0.035514  13.956015       20.0  \n",
       "...                           ...        ...        ...  \n",
       "9           2     7.2   12.030206  12.560982        1.0  \n",
       "                  7.3   12.115742  12.840664        1.0  \n",
       "                  7.4   12.205961  13.135098        1.0  \n",
       "                  7.5   12.300863  13.444285        1.0  \n",
       "                  7.6   12.400447  13.768224        1.0  \n",
       "\n",
       "[841 rows x 9 columns]"
      ],
      "text/html": "<div>\n<style scoped>\n    .dataframe tbody tr th:only-of-type {\n        vertical-align: middle;\n    }\n\n    .dataframe tbody tr th {\n        vertical-align: top;\n    }\n\n    .dataframe thead th {\n        text-align: right;\n    }\n</style>\n<table border=\"1\" class=\"dataframe\">\n  <thead>\n    <tr style=\"text-align: right;\">\n      <th></th>\n      <th></th>\n      <th></th>\n      <th>CO</th>\n      <th>CO2</th>\n      <th>H2</th>\n      <th>acetate</th>\n      <th>biomass</th>\n      <th>butanol</th>\n      <th>butyrate</th>\n      <th>ethanol</th>\n      <th>flow rate</th>\n    </tr>\n    <tr>\n      <th>composition</th>\n      <th>trial</th>\n      <th>time</th>\n      <th></th>\n      <th></th>\n      <th></th>\n      <th></th>\n      <th></th>\n      <th></th>\n      <th></th>\n      <th></th>\n      <th></th>\n    </tr>\n  </thead>\n  <tbody>\n    <tr>\n      <th rowspan=\"5\" valign=\"top\">1</th>\n      <th rowspan=\"5\" valign=\"top\">1</th>\n      <th>0.0</th>\n      <td>0.5</td>\n      <td>0.375</td>\n      <td>0.125</td>\n      <td>16.905029</td>\n      <td>0.429546</td>\n      <td>0.029818</td>\n      <td>0.075529</td>\n      <td>15.895240</td>\n      <td>20.0</td>\n    </tr>\n    <tr>\n      <th>0.1</th>\n      <td>0.5</td>\n      <td>0.375</td>\n      <td>0.125</td>\n      <td>18.001195</td>\n      <td>0.421076</td>\n      <td>0.028260</td>\n      <td>0.061033</td>\n      <td>15.607023</td>\n      <td>20.0</td>\n    </tr>\n    <tr>\n      <th>0.2</th>\n      <td>0.5</td>\n      <td>0.375</td>\n      <td>0.125</td>\n      <td>19.831073</td>\n      <td>0.410803</td>\n      <td>0.028316</td>\n      <td>0.051013</td>\n      <td>15.144135</td>\n      <td>20.0</td>\n    </tr>\n    <tr>\n      <th>0.3</th>\n      <td>0.5</td>\n      <td>0.375</td>\n      <td>0.125</td>\n      <td>22.196249</td>\n      <td>0.403602</td>\n      <td>0.031357</td>\n      <td>0.050367</td>\n      <td>14.522308</td>\n      <td>20.0</td>\n    </tr>\n    <tr>\n      <th>0.4</th>\n      <td>0.5</td>\n      <td>0.375</td>\n      <td>0.125</td>\n      <td>25.293925</td>\n      <td>0.403709</td>\n      <td>0.028700</td>\n      <td>0.035514</td>\n      <td>13.956015</td>\n      <td>20.0</td>\n    </tr>\n    <tr>\n      <th>...</th>\n      <th>...</th>\n      <th>...</th>\n      <td>...</td>\n      <td>...</td>\n      <td>...</td>\n      <td>...</td>\n      <td>...</td>\n      <td>...</td>\n      <td>...</td>\n      <td>...</td>\n      <td>...</td>\n    </tr>\n    <tr>\n      <th rowspan=\"5\" valign=\"top\">9</th>\n      <th rowspan=\"5\" valign=\"top\">2</th>\n      <th>7.2</th>\n      <td>0.2</td>\n      <td>0.000</td>\n      <td>0.800</td>\n      <td>48.933157</td>\n      <td>1.492815</td>\n      <td>4.343044</td>\n      <td>12.030206</td>\n      <td>12.560982</td>\n      <td>1.0</td>\n    </tr>\n    <tr>\n      <th>7.3</th>\n      <td>0.2</td>\n      <td>0.000</td>\n      <td>0.800</td>\n      <td>48.716525</td>\n      <td>1.497124</td>\n      <td>4.472496</td>\n      <td>12.115742</td>\n      <td>12.840664</td>\n      <td>1.0</td>\n    </tr>\n    <tr>\n      <th>7.4</th>\n      <td>0.2</td>\n      <td>0.000</td>\n      <td>0.800</td>\n      <td>48.533664</td>\n      <td>1.501679</td>\n      <td>4.607530</td>\n      <td>12.205961</td>\n      <td>13.135098</td>\n      <td>1.0</td>\n    </tr>\n    <tr>\n      <th>7.5</th>\n      <td>0.2</td>\n      <td>0.000</td>\n      <td>0.800</td>\n      <td>48.384573</td>\n      <td>1.506481</td>\n      <td>4.748145</td>\n      <td>12.300863</td>\n      <td>13.444285</td>\n      <td>1.0</td>\n    </tr>\n    <tr>\n      <th>7.6</th>\n      <td>0.2</td>\n      <td>0.000</td>\n      <td>0.800</td>\n      <td>48.269253</td>\n      <td>1.511529</td>\n      <td>4.894341</td>\n      <td>12.400447</td>\n      <td>13.768224</td>\n      <td>1.0</td>\n    </tr>\n  </tbody>\n</table>\n<p>841 rows × 9 columns</p>\n</div>"
     },
     "metadata": {},
     "execution_count": 4
    }
   ],
   "source": [
    "from data_processing.smooth_interpolate import smooth_interpolate\n",
    "smooth_data = smooth_interpolate(exp_data,0.1)\n",
    "\n",
    "smooth_data.to_csv(f'{cur_dir}/data/smooth_data.csv')\n",
    "smooth_data"
   ]
  },
  {
   "cell_type": "code",
   "execution_count": 5,
   "metadata": {},
   "outputs": [],
   "source": [
    "# kinetic data"
   ]
  },
  {
   "cell_type": "code",
   "execution_count": 6,
   "metadata": {
    "tags": []
   },
   "outputs": [],
   "source": [
    "from data_processing.add_initial_values import add_initial_values\n",
    "\n",
    "add_initial_values(raw_data, smooth_data)\n",
    "raw_data.to_csv(f'{cur_dir}/data/raw_data.csv')\n",
    "\n",
    "add_initial_values(smooth_data, smooth_data)\n",
    "smooth_data.to_csv(f'{cur_dir}/data/smooth_data.csv')"
   ]
  },
  {
   "cell_type": "code",
   "execution_count": null,
   "metadata": {},
   "outputs": [],
   "source": []
  }
 ]
}